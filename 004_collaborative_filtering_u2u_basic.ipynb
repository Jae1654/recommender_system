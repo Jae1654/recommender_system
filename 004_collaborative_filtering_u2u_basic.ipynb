{
  "cells": [
    {
      "cell_type": "code",
      "execution_count": 2,
      "metadata": {
        "id": "hNYMxHoxCIUj"
      },
      "outputs": [],
      "source": [
        "import pandas as pd\n",
        "from sklearn.metrics.pairwise import cosine_similarity"
      ]
    },
    {
      "cell_type": "code",
      "execution_count": 7,
      "metadata": {
        "id": "yMSjSA8QDLpA"
      },
      "outputs": [],
      "source": [
        "dummy_rating = pd.read_csv(\"data/dummy_rating.csv\", index_col=0)"
      ]
    },
    {
      "cell_type": "code",
      "execution_count": 10,
      "metadata": {
        "colab": {
          "base_uri": "https://localhost:8080/"
        },
        "id": "ND5mf6sVsoxs",
        "outputId": "c21930d1-c4d1-4cca-b554-33938d389e74"
      },
      "outputs": [
        {
          "data": {
            "text/plain": [
              "(5, 6)"
            ]
          },
          "execution_count": 10,
          "metadata": {},
          "output_type": "execute_result"
        }
      ],
      "source": [
        "dummy_rating.shape"
      ]
    },
    {
      "cell_type": "code",
      "execution_count": 11,
      "metadata": {
        "colab": {
          "base_uri": "https://localhost:8080/",
          "height": 206
        },
        "id": "t4eKv_FrD0bz",
        "outputId": "f3376730-fc9b-4f44-f4d1-aceee3fdde3a"
      },
      "outputs": [
        {
          "data": {
            "text/html": [
              "<div>\n",
              "<style scoped>\n",
              "    .dataframe tbody tr th:only-of-type {\n",
              "        vertical-align: middle;\n",
              "    }\n",
              "\n",
              "    .dataframe tbody tr th {\n",
              "        vertical-align: top;\n",
              "    }\n",
              "\n",
              "    .dataframe thead th {\n",
              "        text-align: right;\n",
              "    }\n",
              "</style>\n",
              "<table border=\"1\" class=\"dataframe\">\n",
              "  <thead>\n",
              "    <tr style=\"text-align: right;\">\n",
              "      <th></th>\n",
              "      <th>scifi1</th>\n",
              "      <th>scifi2</th>\n",
              "      <th>scifi3</th>\n",
              "      <th>comedy1</th>\n",
              "      <th>comedy2</th>\n",
              "      <th>comedy3</th>\n",
              "    </tr>\n",
              "  </thead>\n",
              "  <tbody>\n",
              "    <tr>\n",
              "      <th>user1</th>\n",
              "      <td>4.0</td>\n",
              "      <td>5.0</td>\n",
              "      <td>3.0</td>\n",
              "      <td>NaN</td>\n",
              "      <td>2.0</td>\n",
              "      <td>1.0</td>\n",
              "    </tr>\n",
              "    <tr>\n",
              "      <th>user2</th>\n",
              "      <td>5.0</td>\n",
              "      <td>3.0</td>\n",
              "      <td>3.0</td>\n",
              "      <td>2.0</td>\n",
              "      <td>2.0</td>\n",
              "      <td>NaN</td>\n",
              "    </tr>\n",
              "    <tr>\n",
              "      <th>user3</th>\n",
              "      <td>1.0</td>\n",
              "      <td>NaN</td>\n",
              "      <td>NaN</td>\n",
              "      <td>4.0</td>\n",
              "      <td>5.0</td>\n",
              "      <td>4.0</td>\n",
              "    </tr>\n",
              "    <tr>\n",
              "      <th>user4</th>\n",
              "      <td>NaN</td>\n",
              "      <td>2.0</td>\n",
              "      <td>1.0</td>\n",
              "      <td>4.0</td>\n",
              "      <td>NaN</td>\n",
              "      <td>3.0</td>\n",
              "    </tr>\n",
              "    <tr>\n",
              "      <th>user5</th>\n",
              "      <td>1.0</td>\n",
              "      <td>NaN</td>\n",
              "      <td>2.0</td>\n",
              "      <td>3.0</td>\n",
              "      <td>3.0</td>\n",
              "      <td>4.0</td>\n",
              "    </tr>\n",
              "  </tbody>\n",
              "</table>\n",
              "</div>"
            ],
            "text/plain": [
              "       scifi1  scifi2  scifi3  comedy1  comedy2  comedy3\n",
              "user1     4.0     5.0     3.0      NaN      2.0      1.0\n",
              "user2     5.0     3.0     3.0      2.0      2.0      NaN\n",
              "user3     1.0     NaN     NaN      4.0      5.0      4.0\n",
              "user4     NaN     2.0     1.0      4.0      NaN      3.0\n",
              "user5     1.0     NaN     2.0      3.0      3.0      4.0"
            ]
          },
          "execution_count": 11,
          "metadata": {},
          "output_type": "execute_result"
        }
      ],
      "source": [
        "dummy_rating.head()"
      ]
    },
    {
      "cell_type": "code",
      "execution_count": 12,
      "metadata": {
        "colab": {
          "base_uri": "https://localhost:8080/",
          "height": 206
        },
        "id": "Arr4hz_iD4ip",
        "outputId": "c4c486cc-e8c9-4134-99cf-f58034537c3c"
      },
      "outputs": [
        {
          "data": {
            "text/html": [
              "<div>\n",
              "<style scoped>\n",
              "    .dataframe tbody tr th:only-of-type {\n",
              "        vertical-align: middle;\n",
              "    }\n",
              "\n",
              "    .dataframe tbody tr th {\n",
              "        vertical-align: top;\n",
              "    }\n",
              "\n",
              "    .dataframe thead th {\n",
              "        text-align: right;\n",
              "    }\n",
              "</style>\n",
              "<table border=\"1\" class=\"dataframe\">\n",
              "  <thead>\n",
              "    <tr style=\"text-align: right;\">\n",
              "      <th></th>\n",
              "      <th>scifi1</th>\n",
              "      <th>scifi2</th>\n",
              "      <th>scifi3</th>\n",
              "      <th>comedy1</th>\n",
              "      <th>comedy2</th>\n",
              "      <th>comedy3</th>\n",
              "    </tr>\n",
              "  </thead>\n",
              "  <tbody>\n",
              "    <tr>\n",
              "      <th>user1</th>\n",
              "      <td>4.0</td>\n",
              "      <td>5.0</td>\n",
              "      <td>3.0</td>\n",
              "      <td>0.0</td>\n",
              "      <td>2.0</td>\n",
              "      <td>1.0</td>\n",
              "    </tr>\n",
              "    <tr>\n",
              "      <th>user2</th>\n",
              "      <td>5.0</td>\n",
              "      <td>3.0</td>\n",
              "      <td>3.0</td>\n",
              "      <td>2.0</td>\n",
              "      <td>2.0</td>\n",
              "      <td>0.0</td>\n",
              "    </tr>\n",
              "    <tr>\n",
              "      <th>user3</th>\n",
              "      <td>1.0</td>\n",
              "      <td>0.0</td>\n",
              "      <td>0.0</td>\n",
              "      <td>4.0</td>\n",
              "      <td>5.0</td>\n",
              "      <td>4.0</td>\n",
              "    </tr>\n",
              "    <tr>\n",
              "      <th>user4</th>\n",
              "      <td>0.0</td>\n",
              "      <td>2.0</td>\n",
              "      <td>1.0</td>\n",
              "      <td>4.0</td>\n",
              "      <td>0.0</td>\n",
              "      <td>3.0</td>\n",
              "    </tr>\n",
              "    <tr>\n",
              "      <th>user5</th>\n",
              "      <td>1.0</td>\n",
              "      <td>0.0</td>\n",
              "      <td>2.0</td>\n",
              "      <td>3.0</td>\n",
              "      <td>3.0</td>\n",
              "      <td>4.0</td>\n",
              "    </tr>\n",
              "  </tbody>\n",
              "</table>\n",
              "</div>"
            ],
            "text/plain": [
              "       scifi1  scifi2  scifi3  comedy1  comedy2  comedy3\n",
              "user1     4.0     5.0     3.0      0.0      2.0      1.0\n",
              "user2     5.0     3.0     3.0      2.0      2.0      0.0\n",
              "user3     1.0     0.0     0.0      4.0      5.0      4.0\n",
              "user4     0.0     2.0     1.0      4.0      0.0      3.0\n",
              "user5     1.0     0.0     2.0      3.0      3.0      4.0"
            ]
          },
          "execution_count": 12,
          "metadata": {},
          "output_type": "execute_result"
        }
      ],
      "source": [
        "dummy_rating.fillna(0, inplace=True)\n",
        "dummy_rating"
      ]
    },
    {
      "cell_type": "code",
      "execution_count": 13,
      "metadata": {
        "colab": {
          "base_uri": "https://localhost:8080/",
          "height": 206
        },
        "id": "PDB6vSY3EDJN",
        "outputId": "989199d5-0374-4390-8ed5-fd260193cb84"
      },
      "outputs": [
        {
          "data": {
            "text/html": [
              "<div>\n",
              "<style scoped>\n",
              "    .dataframe tbody tr th:only-of-type {\n",
              "        vertical-align: middle;\n",
              "    }\n",
              "\n",
              "    .dataframe tbody tr th {\n",
              "        vertical-align: top;\n",
              "    }\n",
              "\n",
              "    .dataframe thead th {\n",
              "        text-align: right;\n",
              "    }\n",
              "</style>\n",
              "<table border=\"1\" class=\"dataframe\">\n",
              "  <thead>\n",
              "    <tr style=\"text-align: right;\">\n",
              "      <th></th>\n",
              "      <th>scifi1</th>\n",
              "      <th>scifi2</th>\n",
              "      <th>scifi3</th>\n",
              "      <th>comedy1</th>\n",
              "      <th>comedy2</th>\n",
              "      <th>comedy3</th>\n",
              "    </tr>\n",
              "  </thead>\n",
              "  <tbody>\n",
              "    <tr>\n",
              "      <th>user1</th>\n",
              "      <td>0.300000</td>\n",
              "      <td>0.500000</td>\n",
              "      <td>0.100000</td>\n",
              "      <td>-0.500000</td>\n",
              "      <td>-0.100000</td>\n",
              "      <td>-0.300000</td>\n",
              "    </tr>\n",
              "    <tr>\n",
              "      <th>user2</th>\n",
              "      <td>0.500000</td>\n",
              "      <td>0.100000</td>\n",
              "      <td>0.100000</td>\n",
              "      <td>-0.100000</td>\n",
              "      <td>-0.100000</td>\n",
              "      <td>-0.500000</td>\n",
              "    </tr>\n",
              "    <tr>\n",
              "      <th>user3</th>\n",
              "      <td>-0.266667</td>\n",
              "      <td>-0.466667</td>\n",
              "      <td>-0.466667</td>\n",
              "      <td>0.333333</td>\n",
              "      <td>0.533333</td>\n",
              "      <td>0.333333</td>\n",
              "    </tr>\n",
              "    <tr>\n",
              "      <th>user4</th>\n",
              "      <td>-0.416667</td>\n",
              "      <td>0.083333</td>\n",
              "      <td>-0.166667</td>\n",
              "      <td>0.583333</td>\n",
              "      <td>-0.416667</td>\n",
              "      <td>0.333333</td>\n",
              "    </tr>\n",
              "    <tr>\n",
              "      <th>user5</th>\n",
              "      <td>-0.291667</td>\n",
              "      <td>-0.541667</td>\n",
              "      <td>-0.041667</td>\n",
              "      <td>0.208333</td>\n",
              "      <td>0.208333</td>\n",
              "      <td>0.458333</td>\n",
              "    </tr>\n",
              "  </tbody>\n",
              "</table>\n",
              "</div>"
            ],
            "text/plain": [
              "         scifi1    scifi2    scifi3   comedy1   comedy2   comedy3\n",
              "user1  0.300000  0.500000  0.100000 -0.500000 -0.100000 -0.300000\n",
              "user2  0.500000  0.100000  0.100000 -0.100000 -0.100000 -0.500000\n",
              "user3 -0.266667 -0.466667 -0.466667  0.333333  0.533333  0.333333\n",
              "user4 -0.416667  0.083333 -0.166667  0.583333 -0.416667  0.333333\n",
              "user5 -0.291667 -0.541667 -0.041667  0.208333  0.208333  0.458333"
            ]
          },
          "execution_count": 13,
          "metadata": {},
          "output_type": "execute_result"
        }
      ],
      "source": [
        "# 평점 정보를 보정. 이후에 코사인 유사도를 사용하면 이는 피어슨 유사도에 해당\n",
        "def standardize(row):\n",
        "    new_row = (row - row.mean())/(row.max()-row.min())\n",
        "    return new_row\n",
        "\n",
        "dummy_rating_std = dummy_rating.apply(standardize, axis=1)\n",
        "dummy_rating_std.head()"
      ]
    },
    {
      "cell_type": "code",
      "execution_count": 14,
      "metadata": {
        "id": "H-mvAftFJLBF"
      },
      "outputs": [
        {
          "data": {
            "text/html": [
              "<div>\n",
              "<style scoped>\n",
              "    .dataframe tbody tr th:only-of-type {\n",
              "        vertical-align: middle;\n",
              "    }\n",
              "\n",
              "    .dataframe tbody tr th {\n",
              "        vertical-align: top;\n",
              "    }\n",
              "\n",
              "    .dataframe thead th {\n",
              "        text-align: right;\n",
              "    }\n",
              "</style>\n",
              "<table border=\"1\" class=\"dataframe\">\n",
              "  <thead>\n",
              "    <tr style=\"text-align: right;\">\n",
              "      <th></th>\n",
              "      <th>user1</th>\n",
              "      <th>user2</th>\n",
              "      <th>user3</th>\n",
              "      <th>user4</th>\n",
              "      <th>user5</th>\n",
              "    </tr>\n",
              "  </thead>\n",
              "  <tbody>\n",
              "    <tr>\n",
              "      <th>user1</th>\n",
              "      <td>1.000000</td>\n",
              "      <td>0.906306</td>\n",
              "      <td>0.318696</td>\n",
              "      <td>0.393893</td>\n",
              "      <td>0.431834</td>\n",
              "    </tr>\n",
              "    <tr>\n",
              "      <th>user2</th>\n",
              "      <td>0.906306</td>\n",
              "      <td>1.000000</td>\n",
              "      <td>0.422891</td>\n",
              "      <td>0.434613</td>\n",
              "      <td>0.515716</td>\n",
              "    </tr>\n",
              "    <tr>\n",
              "      <th>user3</th>\n",
              "      <td>0.318696</td>\n",
              "      <td>0.422891</td>\n",
              "      <td>1.000000</td>\n",
              "      <td>0.671249</td>\n",
              "      <td>0.925138</td>\n",
              "    </tr>\n",
              "    <tr>\n",
              "      <th>user4</th>\n",
              "      <td>0.393893</td>\n",
              "      <td>0.434613</td>\n",
              "      <td>0.671249</td>\n",
              "      <td>1.000000</td>\n",
              "      <td>0.760117</td>\n",
              "    </tr>\n",
              "    <tr>\n",
              "      <th>user5</th>\n",
              "      <td>0.431834</td>\n",
              "      <td>0.515716</td>\n",
              "      <td>0.925138</td>\n",
              "      <td>0.760117</td>\n",
              "      <td>1.000000</td>\n",
              "    </tr>\n",
              "  </tbody>\n",
              "</table>\n",
              "</div>"
            ],
            "text/plain": [
              "          user1     user2     user3     user4     user5\n",
              "user1  1.000000  0.906306  0.318696  0.393893  0.431834\n",
              "user2  0.906306  1.000000  0.422891  0.434613  0.515716\n",
              "user3  0.318696  0.422891  1.000000  0.671249  0.925138\n",
              "user4  0.393893  0.434613  0.671249  1.000000  0.760117\n",
              "user5  0.431834  0.515716  0.925138  0.760117  1.000000"
            ]
          },
          "execution_count": 14,
          "metadata": {},
          "output_type": "execute_result"
        }
      ],
      "source": [
        "# 정규화 없이 아이템간의 유사도 측정 행렬 만들기\n",
        "corrMatrix_wo_std = pd.DataFrame(cosine_similarity(dummy_rating), index=dummy_rating.index, columns=dummy_rating.index)\n",
        "corrMatrix_wo_std"
      ]
    },
    {
      "cell_type": "code",
      "execution_count": 15,
      "metadata": {
        "id": "hhEsGTdpO5Gx"
      },
      "outputs": [
        {
          "data": {
            "text/html": [
              "<div>\n",
              "<style scoped>\n",
              "    .dataframe tbody tr th:only-of-type {\n",
              "        vertical-align: middle;\n",
              "    }\n",
              "\n",
              "    .dataframe tbody tr th {\n",
              "        vertical-align: top;\n",
              "    }\n",
              "\n",
              "    .dataframe thead th {\n",
              "        text-align: right;\n",
              "    }\n",
              "</style>\n",
              "<table border=\"1\" class=\"dataframe\">\n",
              "  <thead>\n",
              "    <tr style=\"text-align: right;\">\n",
              "      <th></th>\n",
              "      <th>user1</th>\n",
              "      <th>user2</th>\n",
              "      <th>user3</th>\n",
              "      <th>user4</th>\n",
              "      <th>user5</th>\n",
              "    </tr>\n",
              "  </thead>\n",
              "  <tbody>\n",
              "    <tr>\n",
              "      <th>user1</th>\n",
              "      <td>1.000000</td>\n",
              "      <td>0.683130</td>\n",
              "      <td>-0.807391</td>\n",
              "      <td>-0.589188</td>\n",
              "      <td>-0.907841</td>\n",
              "    </tr>\n",
              "    <tr>\n",
              "      <th>user2</th>\n",
              "      <td>0.683130</td>\n",
              "      <td>1.000000</td>\n",
              "      <td>-0.648886</td>\n",
              "      <td>-0.596285</td>\n",
              "      <td>-0.785553</td>\n",
              "    </tr>\n",
              "    <tr>\n",
              "      <th>user3</th>\n",
              "      <td>-0.807391</td>\n",
              "      <td>-0.648886</td>\n",
              "      <td>1.000000</td>\n",
              "      <td>0.253917</td>\n",
              "      <td>0.824965</td>\n",
              "    </tr>\n",
              "    <tr>\n",
              "      <th>user4</th>\n",
              "      <td>-0.589188</td>\n",
              "      <td>-0.596285</td>\n",
              "      <td>0.253917</td>\n",
              "      <td>1.000000</td>\n",
              "      <td>0.360555</td>\n",
              "    </tr>\n",
              "    <tr>\n",
              "      <th>user5</th>\n",
              "      <td>-0.907841</td>\n",
              "      <td>-0.785553</td>\n",
              "      <td>0.824965</td>\n",
              "      <td>0.360555</td>\n",
              "      <td>1.000000</td>\n",
              "    </tr>\n",
              "  </tbody>\n",
              "</table>\n",
              "</div>"
            ],
            "text/plain": [
              "          user1     user2     user3     user4     user5\n",
              "user1  1.000000  0.683130 -0.807391 -0.589188 -0.907841\n",
              "user2  0.683130  1.000000 -0.648886 -0.596285 -0.785553\n",
              "user3 -0.807391 -0.648886  1.000000  0.253917  0.824965\n",
              "user4 -0.589188 -0.596285  0.253917  1.000000  0.360555\n",
              "user5 -0.907841 -0.785553  0.824965  0.360555  1.000000"
            ]
          },
          "execution_count": 15,
          "metadata": {},
          "output_type": "execute_result"
        }
      ],
      "source": [
        "# 정규화 기반 아이템간의 유사도 측정 행렬 만들기\n",
        "corrMatrix = pd.DataFrame(cosine_similarity(dummy_rating_std), index=dummy_rating.index, columns=dummy_rating.index)\n",
        "corrMatrix"
      ]
    },
    {
      "cell_type": "code",
      "execution_count": 16,
      "metadata": {
        "id": "MgS2PZ48Jn-H"
      },
      "outputs": [],
      "source": [
        "def get_similar(userId):\n",
        "    similar_score = corrMatrix[userId]\n",
        "    # 앞서 보정된 값을 가지고 평점의 내림차순으로 정렬\n",
        "    similar_score = similar_score.sort_values(ascending=False)\n",
        "    return similar_score"
      ]
    },
    {
      "cell_type": "code",
      "execution_count": 17,
      "metadata": {
        "id": "Cn00uRC3KABb"
      },
      "outputs": [
        {
          "data": {
            "text/plain": [
              "user1    1.000000\n",
              "user2    0.683130\n",
              "user4   -0.589188\n",
              "user3   -0.807391\n",
              "user5   -0.907841\n",
              "Name: user1, dtype: float64"
            ]
          },
          "execution_count": 17,
          "metadata": {},
          "output_type": "execute_result"
        }
      ],
      "source": [
        "scifi_lover = \"user1\"\n",
        "\n",
        "similar_users = get_similar(scifi_lover)\n",
        "similar_users.head(10)"
      ]
    },
    {
      "cell_type": "code",
      "execution_count": null,
      "metadata": {
        "id": "Nt_OWrWgL9fk"
      },
      "outputs": [],
      "source": []
    }
  ],
  "metadata": {
    "colab": {
      "provenance": []
    },
    "kernelspec": {
      "display_name": "Python 3",
      "name": "python3"
    },
    "language_info": {
      "codemirror_mode": {
        "name": "ipython",
        "version": 3
      },
      "file_extension": ".py",
      "mimetype": "text/x-python",
      "name": "python",
      "nbconvert_exporter": "python",
      "pygments_lexer": "ipython3",
      "version": "3.10.14"
    }
  },
  "nbformat": 4,
  "nbformat_minor": 0
}
