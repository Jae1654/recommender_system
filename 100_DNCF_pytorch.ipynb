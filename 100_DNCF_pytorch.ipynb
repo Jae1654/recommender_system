{
  "cells": [
    {
      "cell_type": "code",
      "execution_count": 1,
      "metadata": {},
      "outputs": [],
      "source": [
        "# %conda install -c conda-forge pytorch"
      ]
    },
    {
      "cell_type": "code",
      "execution_count": 12,
      "metadata": {},
      "outputs": [
        {
          "name": "stdout",
          "output_type": "stream",
          "text": [
            "MPS 장치 지원 여부: True\n",
            "MPS 장치 가용 여부: True\n",
            "device: mps\n"
          ]
        }
      ],
      "source": [
        "import torch\n",
        "\n",
        "print(f\"MPS 장치 지원 여부: {torch.backends.mps.is_built()}\")\n",
        "print(f\"MPS 장치 가용 여부: {torch.backends.mps.is_available()}\") \n",
        "\n",
        "device = torch.device(\"mps\") if torch.backends.mps.is_available() else \"cpu\"\n",
        "print(f\"device: {device}\")\n",
        "device = 'cpu'"
      ]
    },
    {
      "cell_type": "markdown",
      "metadata": {},
      "source": [
        "# Load Data\n"
      ]
    },
    {
      "cell_type": "code",
      "execution_count": 13,
      "metadata": {},
      "outputs": [
        {
          "data": {
            "text/plain": [
              "'!wget https://files.grouplens.org/datasets/movielens/ml-latest-small.zip\\n!unzip ml-latest-small.zip'"
            ]
          },
          "execution_count": 13,
          "metadata": {},
          "output_type": "execute_result"
        }
      ],
      "source": [
        "\"\"\"!wget https://files.grouplens.org/datasets/movielens/ml-latest-small.zip\n",
        "!unzip ml-latest-small.zip\"\"\""
      ]
    },
    {
      "cell_type": "code",
      "execution_count": 14,
      "metadata": {},
      "outputs": [],
      "source": [
        "import pandas as pd \n",
        "\n",
        "rating = pd.read_csv(\"ml-latest-small/ratings.csv\")"
      ]
    },
    {
      "cell_type": "code",
      "execution_count": 15,
      "metadata": {},
      "outputs": [],
      "source": [
        "users = torch.tensor(rating.userId.values)\n",
        "items = torch.tensor(rating.movieId.values)"
      ]
    },
    {
      "cell_type": "markdown",
      "metadata": {},
      "source": [
        "# Split Train - Test\n"
      ]
    },
    {
      "cell_type": "code",
      "execution_count": 16,
      "metadata": {},
      "outputs": [],
      "source": [
        "from sklearn.model_selection import train_test_split\n",
        "\n",
        "\n",
        "rating_train, rating_test = train_test_split(rating, test_size=0.2, random_state=42)\n",
        "\n",
        "\n",
        "# 텐서로 변경 및 GPU 가속 환경 셋팅\n",
        "users_train = torch.tensor(rating_train.userId.values).to(device)\n",
        "items_train = torch.tensor(rating_train.movieId.values).to(device)\n",
        "ratings_train = torch.tensor(rating_train.rating.values).to(torch.float32).to(device)\n",
        "\n",
        "users_test = torch.tensor(rating_test.userId.values).to(device)\n",
        "items_test = torch.tensor(rating_test.movieId.values).to(device)\n",
        "ratings_test = torch.tensor(rating_test.rating.values).to(torch.float32).to(device)"
      ]
    },
    {
      "cell_type": "markdown",
      "metadata": {},
      "source": [
        "### NCF Model\n"
      ]
    },
    {
      "cell_type": "code",
      "execution_count": 31,
      "metadata": {},
      "outputs": [
        {
          "data": {
            "text/plain": [
              "100836"
            ]
          },
          "execution_count": 31,
          "metadata": {},
          "output_type": "execute_result"
        }
      ],
      "source": [
        "len(items)"
      ]
    },
    {
      "cell_type": "code",
      "execution_count": 27,
      "metadata": {},
      "outputs": [
        {
          "data": {
            "text/plain": [
              "tensor(611)"
            ]
          },
          "execution_count": 27,
          "metadata": {},
          "output_type": "execute_result"
        }
      ],
      "source": [
        "n_users"
      ]
    },
    {
      "cell_type": "code",
      "execution_count": 25,
      "metadata": {},
      "outputs": [],
      "source": [
        "n_users = max(users) + 1\n",
        "n_items = max(items) + 1\n"
      ]
    },
    {
      "cell_type": "code",
      "execution_count": 32,
      "metadata": {},
      "outputs": [],
      "source": [
        "n_items = rating.nunique()['movieId'] + 1"
      ]
    },
    {
      "cell_type": "code",
      "execution_count": 35,
      "metadata": {},
      "outputs": [],
      "source": [
        "import torch.nn as nn\n",
        "\n",
        "# Regularization \n",
        "dropout_rate = 0.3\n",
        "\n",
        "# 사용할 유저 벡터와 아이템 벡터의 크기\n",
        "n_factors = 100\n",
        " \n",
        " # users와 아이템 수\n",
        "n_users = max(users) + 1\n",
        "n_items = max(items) + 1 # 이 부분은 고도화 필요 \n",
        "\n",
        "\n",
        "P = torch.randn(n_users, n_factors, requires_grad=True, device=device)\n",
        "Q = torch.randn(n_items, n_factors, requires_grad=True, device=device)\n",
        "\n",
        "# 모델 생성\n",
        "model = nn.Sequential(\n",
        "    nn.Linear(n_factors * 2, 64),\n",
        "    nn.ReLU(),\n",
        "    nn.Dropout(dropout_rate),\n",
        "    nn.Linear(64,32),\n",
        "    nn.ReLU(),\n",
        "    nn.Linear(32, 8),\n",
        "    nn.ReLU(),\n",
        "    nn.Dropout(dropout_rate),\n",
        "    nn.Linear(8,1)\n",
        ").to(device)\n",
        "\n",
        "# 학습\n",
        "mse = nn.MSELoss()\n",
        "\n",
        "optim = torch.optim.Adam(list(model.parameters())+[P, Q], lr = 0.01)\n",
        "\n",
        "for epoch in range(300):\n",
        "    model.train()\n",
        "    x = torch.cat((P[users_train], Q[items_train]), dim = 1)\n",
        "    h = model(x).squeeze()\n",
        "    \n",
        "    cost = mse(h, ratings_train)\n",
        "    \n",
        "    optim.zero_grad()\n",
        "    cost.backward()\n",
        "    optim.step()\n",
        "    \n",
        "    with torch.no_grad():\n",
        "        model.eval() #  테스트 할 때 드롭아웃 적용 x\n",
        "        if epoch % 100 == 0:\n",
        "            x_train = torch.cat((P[users_train], Q[items_train]), dim = 1)\n",
        "            h_train = model(x_train).squeeze()\n",
        "            train_mse = mse(h_train, ratings_train)\n",
        "            \n",
        "            x_test = torch.cat((P[users_test], Q[items_test]), dim = 1)\n",
        "            h_test = model(x_test).squeeze()\n",
        "            test_mse = mse(h_test, ratings_test)\n",
        "            \n",
        "            print(f\"epoch: {epoch}, train_mse: {train_mse}, test_mse: {test_mse}\")"
      ]
    },
    {
      "cell_type": "code",
      "execution_count": 37,
      "metadata": {},
      "outputs": [
        {
          "data": {
            "text/plain": [
              "tensor(0.6231)"
            ]
          },
          "execution_count": 37,
          "metadata": {},
          "output_type": "execute_result"
        }
      ],
      "source": [
        "train_mse"
      ]
    },
    {
      "cell_type": "code",
      "execution_count": 36,
      "metadata": {},
      "outputs": [
        {
          "data": {
            "text/plain": [
              "tensor(0.8305)"
            ]
          },
          "execution_count": 36,
          "metadata": {},
          "output_type": "execute_result"
        }
      ],
      "source": [
        "test_mse"
      ]
    }
  ],
  "metadata": {
    "colab": {
      "provenance": []
    },
    "kernelspec": {
      "display_name": "Python 3",
      "name": "python3"
    },
    "language_info": {
      "codemirror_mode": {
        "name": "ipython",
        "version": 3
      },
      "file_extension": ".py",
      "mimetype": "text/x-python",
      "name": "python",
      "nbconvert_exporter": "python",
      "pygments_lexer": "ipython3",
      "version": "3.10.15"
    }
  },
  "nbformat": 4,
  "nbformat_minor": 0
}
