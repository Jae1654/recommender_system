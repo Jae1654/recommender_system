{
  "cells": [
    {
      "cell_type": "code",
      "execution_count": 37,
      "metadata": {
        "colab": {
          "base_uri": "https://localhost:8080/"
        },
        "id": "4Ep7L0e2ldgY",
        "outputId": "d24a6cc1-1efe-477a-9073-15cc3a20c67e"
      },
      "outputs": [],
      "source": [
        "# %conda install -c conda-forge numpy pandas seaborn scikit-learn scikit-surprise"
      ]
    },
    {
      "cell_type": "markdown",
      "metadata": {
        "id": "9ZQfxxifzG6k"
      },
      "source": [
        "# 데이터 로딩 및 분석\n"
      ]
    },
    {
      "cell_type": "code",
      "execution_count": 2,
      "metadata": {
        "id": "e4jdjZN254pO"
      },
      "outputs": [],
      "source": [
        "from surprise import Dataset\n",
        "from surprise import Reader\n",
        "\n",
        "from collections import defaultdict\n",
        "import numpy as np\n",
        "import pandas as pd"
      ]
    },
    {
      "cell_type": "code",
      "execution_count": 3,
      "metadata": {
        "id": "X9m_UFiBnx6m"
      },
      "outputs": [],
      "source": [
        "movies = pd.read_csv(\"data/movies.csv\")\n",
        "ratings = pd.read_csv(\"data/ratings.csv\")"
      ]
    },
    {
      "cell_type": "code",
      "execution_count": 4,
      "metadata": {
        "colab": {
          "base_uri": "https://localhost:8080/",
          "height": 206
        },
        "id": "kym07ydsoou8",
        "outputId": "8f74f851-0701-4fb3-f556-88da317f111a"
      },
      "outputs": [
        {
          "data": {
            "text/html": [
              "<div>\n",
              "<style scoped>\n",
              "    .dataframe tbody tr th:only-of-type {\n",
              "        vertical-align: middle;\n",
              "    }\n",
              "\n",
              "    .dataframe tbody tr th {\n",
              "        vertical-align: top;\n",
              "    }\n",
              "\n",
              "    .dataframe thead th {\n",
              "        text-align: right;\n",
              "    }\n",
              "</style>\n",
              "<table border=\"1\" class=\"dataframe\">\n",
              "  <thead>\n",
              "    <tr style=\"text-align: right;\">\n",
              "      <th></th>\n",
              "      <th>movieId</th>\n",
              "      <th>title</th>\n",
              "      <th>genres</th>\n",
              "    </tr>\n",
              "  </thead>\n",
              "  <tbody>\n",
              "    <tr>\n",
              "      <th>0</th>\n",
              "      <td>1</td>\n",
              "      <td>Toy Story (1995)</td>\n",
              "      <td>Adventure|Animation|Children|Comedy|Fantasy</td>\n",
              "    </tr>\n",
              "    <tr>\n",
              "      <th>1</th>\n",
              "      <td>2</td>\n",
              "      <td>Jumanji (1995)</td>\n",
              "      <td>Adventure|Children|Fantasy</td>\n",
              "    </tr>\n",
              "    <tr>\n",
              "      <th>2</th>\n",
              "      <td>3</td>\n",
              "      <td>Grumpier Old Men (1995)</td>\n",
              "      <td>Comedy|Romance</td>\n",
              "    </tr>\n",
              "    <tr>\n",
              "      <th>3</th>\n",
              "      <td>4</td>\n",
              "      <td>Waiting to Exhale (1995)</td>\n",
              "      <td>Comedy|Drama|Romance</td>\n",
              "    </tr>\n",
              "    <tr>\n",
              "      <th>4</th>\n",
              "      <td>5</td>\n",
              "      <td>Father of the Bride Part II (1995)</td>\n",
              "      <td>Comedy</td>\n",
              "    </tr>\n",
              "  </tbody>\n",
              "</table>\n",
              "</div>"
            ],
            "text/plain": [
              "   movieId                               title  \\\n",
              "0        1                    Toy Story (1995)   \n",
              "1        2                      Jumanji (1995)   \n",
              "2        3             Grumpier Old Men (1995)   \n",
              "3        4            Waiting to Exhale (1995)   \n",
              "4        5  Father of the Bride Part II (1995)   \n",
              "\n",
              "                                        genres  \n",
              "0  Adventure|Animation|Children|Comedy|Fantasy  \n",
              "1                   Adventure|Children|Fantasy  \n",
              "2                               Comedy|Romance  \n",
              "3                         Comedy|Drama|Romance  \n",
              "4                                       Comedy  "
            ]
          },
          "execution_count": 4,
          "metadata": {},
          "output_type": "execute_result"
        }
      ],
      "source": [
        "movies.head()"
      ]
    },
    {
      "cell_type": "code",
      "execution_count": 5,
      "metadata": {
        "colab": {
          "base_uri": "https://localhost:8080/",
          "height": 206
        },
        "id": "K82Avgs3pHAe",
        "outputId": "ef5879e0-67e6-422f-b4c0-dac36078779a"
      },
      "outputs": [
        {
          "data": {
            "text/html": [
              "<div>\n",
              "<style scoped>\n",
              "    .dataframe tbody tr th:only-of-type {\n",
              "        vertical-align: middle;\n",
              "    }\n",
              "\n",
              "    .dataframe tbody tr th {\n",
              "        vertical-align: top;\n",
              "    }\n",
              "\n",
              "    .dataframe thead th {\n",
              "        text-align: right;\n",
              "    }\n",
              "</style>\n",
              "<table border=\"1\" class=\"dataframe\">\n",
              "  <thead>\n",
              "    <tr style=\"text-align: right;\">\n",
              "      <th></th>\n",
              "      <th>userId</th>\n",
              "      <th>movieId</th>\n",
              "      <th>rating</th>\n",
              "      <th>timestamp</th>\n",
              "    </tr>\n",
              "  </thead>\n",
              "  <tbody>\n",
              "    <tr>\n",
              "      <th>0</th>\n",
              "      <td>1</td>\n",
              "      <td>31</td>\n",
              "      <td>2.5</td>\n",
              "      <td>1260759144</td>\n",
              "    </tr>\n",
              "    <tr>\n",
              "      <th>1</th>\n",
              "      <td>1</td>\n",
              "      <td>1029</td>\n",
              "      <td>3.0</td>\n",
              "      <td>1260759179</td>\n",
              "    </tr>\n",
              "    <tr>\n",
              "      <th>2</th>\n",
              "      <td>1</td>\n",
              "      <td>1061</td>\n",
              "      <td>3.0</td>\n",
              "      <td>1260759182</td>\n",
              "    </tr>\n",
              "    <tr>\n",
              "      <th>3</th>\n",
              "      <td>1</td>\n",
              "      <td>1129</td>\n",
              "      <td>2.0</td>\n",
              "      <td>1260759185</td>\n",
              "    </tr>\n",
              "    <tr>\n",
              "      <th>4</th>\n",
              "      <td>1</td>\n",
              "      <td>1172</td>\n",
              "      <td>4.0</td>\n",
              "      <td>1260759205</td>\n",
              "    </tr>\n",
              "  </tbody>\n",
              "</table>\n",
              "</div>"
            ],
            "text/plain": [
              "   userId  movieId  rating   timestamp\n",
              "0       1       31     2.5  1260759144\n",
              "1       1     1029     3.0  1260759179\n",
              "2       1     1061     3.0  1260759182\n",
              "3       1     1129     2.0  1260759185\n",
              "4       1     1172     4.0  1260759205"
            ]
          },
          "execution_count": 5,
          "metadata": {},
          "output_type": "execute_result"
        }
      ],
      "source": [
        "ratings.head()"
      ]
    },
    {
      "cell_type": "code",
      "execution_count": 6,
      "metadata": {
        "id": "ZQqs1GQIpI2y"
      },
      "outputs": [],
      "source": [
        "movie_ratings = pd.merge(movies, ratings, left_on='movieId', right_on='movieId')"
      ]
    },
    {
      "cell_type": "code",
      "execution_count": 7,
      "metadata": {
        "colab": {
          "base_uri": "https://localhost:8080/",
          "height": 206
        },
        "id": "iXrDNF1UpWgF",
        "outputId": "9e07b715-8dbc-4029-a464-053a8a006be5"
      },
      "outputs": [
        {
          "data": {
            "text/html": [
              "<div>\n",
              "<style scoped>\n",
              "    .dataframe tbody tr th:only-of-type {\n",
              "        vertical-align: middle;\n",
              "    }\n",
              "\n",
              "    .dataframe tbody tr th {\n",
              "        vertical-align: top;\n",
              "    }\n",
              "\n",
              "    .dataframe thead th {\n",
              "        text-align: right;\n",
              "    }\n",
              "</style>\n",
              "<table border=\"1\" class=\"dataframe\">\n",
              "  <thead>\n",
              "    <tr style=\"text-align: right;\">\n",
              "      <th></th>\n",
              "      <th>movieId</th>\n",
              "      <th>title</th>\n",
              "      <th>genres</th>\n",
              "      <th>userId</th>\n",
              "      <th>rating</th>\n",
              "      <th>timestamp</th>\n",
              "    </tr>\n",
              "  </thead>\n",
              "  <tbody>\n",
              "    <tr>\n",
              "      <th>0</th>\n",
              "      <td>1</td>\n",
              "      <td>Toy Story (1995)</td>\n",
              "      <td>Adventure|Animation|Children|Comedy|Fantasy</td>\n",
              "      <td>7</td>\n",
              "      <td>3.0</td>\n",
              "      <td>851866703</td>\n",
              "    </tr>\n",
              "    <tr>\n",
              "      <th>1</th>\n",
              "      <td>1</td>\n",
              "      <td>Toy Story (1995)</td>\n",
              "      <td>Adventure|Animation|Children|Comedy|Fantasy</td>\n",
              "      <td>9</td>\n",
              "      <td>4.0</td>\n",
              "      <td>938629179</td>\n",
              "    </tr>\n",
              "    <tr>\n",
              "      <th>2</th>\n",
              "      <td>1</td>\n",
              "      <td>Toy Story (1995)</td>\n",
              "      <td>Adventure|Animation|Children|Comedy|Fantasy</td>\n",
              "      <td>13</td>\n",
              "      <td>5.0</td>\n",
              "      <td>1331380058</td>\n",
              "    </tr>\n",
              "    <tr>\n",
              "      <th>3</th>\n",
              "      <td>1</td>\n",
              "      <td>Toy Story (1995)</td>\n",
              "      <td>Adventure|Animation|Children|Comedy|Fantasy</td>\n",
              "      <td>15</td>\n",
              "      <td>2.0</td>\n",
              "      <td>997938310</td>\n",
              "    </tr>\n",
              "    <tr>\n",
              "      <th>4</th>\n",
              "      <td>1</td>\n",
              "      <td>Toy Story (1995)</td>\n",
              "      <td>Adventure|Animation|Children|Comedy|Fantasy</td>\n",
              "      <td>19</td>\n",
              "      <td>3.0</td>\n",
              "      <td>855190091</td>\n",
              "    </tr>\n",
              "  </tbody>\n",
              "</table>\n",
              "</div>"
            ],
            "text/plain": [
              "   movieId             title                                       genres  \\\n",
              "0        1  Toy Story (1995)  Adventure|Animation|Children|Comedy|Fantasy   \n",
              "1        1  Toy Story (1995)  Adventure|Animation|Children|Comedy|Fantasy   \n",
              "2        1  Toy Story (1995)  Adventure|Animation|Children|Comedy|Fantasy   \n",
              "3        1  Toy Story (1995)  Adventure|Animation|Children|Comedy|Fantasy   \n",
              "4        1  Toy Story (1995)  Adventure|Animation|Children|Comedy|Fantasy   \n",
              "\n",
              "   userId  rating   timestamp  \n",
              "0       7     3.0   851866703  \n",
              "1       9     4.0   938629179  \n",
              "2      13     5.0  1331380058  \n",
              "3      15     2.0   997938310  \n",
              "4      19     3.0   855190091  "
            ]
          },
          "execution_count": 7,
          "metadata": {},
          "output_type": "execute_result"
        }
      ],
      "source": [
        "movie_ratings.head()"
      ]
    },
    {
      "cell_type": "code",
      "execution_count": 8,
      "metadata": {
        "colab": {
          "base_uri": "https://localhost:8080/"
        },
        "id": "udf_2XkOpZ2L",
        "outputId": "481aebe6-acd7-4d01-85e6-55ff7fb191c5"
      },
      "outputs": [
        {
          "data": {
            "text/plain": [
              "(9125, 3)"
            ]
          },
          "execution_count": 8,
          "metadata": {},
          "output_type": "execute_result"
        }
      ],
      "source": [
        "movies.shape"
      ]
    },
    {
      "cell_type": "code",
      "execution_count": 9,
      "metadata": {
        "colab": {
          "base_uri": "https://localhost:8080/"
        },
        "id": "90izVbp0pcO1",
        "outputId": "072cf35d-d8e4-4428-f22f-1730de9fd58a"
      },
      "outputs": [
        {
          "data": {
            "text/plain": [
              "(100004, 4)"
            ]
          },
          "execution_count": 9,
          "metadata": {},
          "output_type": "execute_result"
        }
      ],
      "source": [
        "ratings.shape"
      ]
    },
    {
      "cell_type": "code",
      "execution_count": 10,
      "metadata": {
        "colab": {
          "base_uri": "https://localhost:8080/"
        },
        "id": "l8j8KQfwpeL4",
        "outputId": "1b285ffd-ad35-4be6-a2bc-681ac398184b"
      },
      "outputs": [
        {
          "data": {
            "text/plain": [
              "(100004, 6)"
            ]
          },
          "execution_count": 10,
          "metadata": {},
          "output_type": "execute_result"
        }
      ],
      "source": [
        "movie_ratings.shape"
      ]
    },
    {
      "cell_type": "markdown",
      "metadata": {
        "id": "gvYbdqFuqC3s"
      },
      "source": [
        "데이터 분석\n",
        "\n",
        "- 영화별 평점수: min, max, median, mean\n",
        "- 가장 평점이 많은 영화 10개는?\n",
        "- 영화별 평점 평균: min, max, median, mean\n",
        "- 가장 평점이 높은 영화 10개는? (100개 이상 평점이 있는 영화중)\n"
      ]
    },
    {
      "cell_type": "code",
      "execution_count": 11,
      "metadata": {
        "colab": {
          "base_uri": "https://localhost:8080/"
        },
        "id": "_KvdXXgEpkYv",
        "outputId": "9168a981-5de1-452c-925d-a4b35bf346e1"
      },
      "outputs": [
        {
          "data": {
            "text/plain": [
              "9066"
            ]
          },
          "execution_count": 11,
          "metadata": {},
          "output_type": "execute_result"
        }
      ],
      "source": [
        "movie_ratings[\"movieId\"].nunique() # 이말은 레이팅이 없는 영화가 존재하여 merge중 소실된것을 뜻함"
      ]
    },
    {
      "cell_type": "code",
      "execution_count": 12,
      "metadata": {
        "id": "Ogu009trrT5r"
      },
      "outputs": [],
      "source": [
        "movie_rating_summary = movie_ratings[[\"movieId\", \"rating\"]].groupby([\"movieId\"]).agg([\"count\", \"median\", \"mean\"])"
      ]
    },
    {
      "cell_type": "code",
      "execution_count": 13,
      "metadata": {
        "colab": {
          "base_uri": "https://localhost:8080/",
          "height": 269
        },
        "id": "6dHMObt1rg6-",
        "outputId": "15624cdf-627f-4a3c-cdf6-886d19c7758f"
      },
      "outputs": [
        {
          "data": {
            "text/html": [
              "<div>\n",
              "<style scoped>\n",
              "    .dataframe tbody tr th:only-of-type {\n",
              "        vertical-align: middle;\n",
              "    }\n",
              "\n",
              "    .dataframe tbody tr th {\n",
              "        vertical-align: top;\n",
              "    }\n",
              "\n",
              "    .dataframe thead tr th {\n",
              "        text-align: left;\n",
              "    }\n",
              "\n",
              "    .dataframe thead tr:last-of-type th {\n",
              "        text-align: right;\n",
              "    }\n",
              "</style>\n",
              "<table border=\"1\" class=\"dataframe\">\n",
              "  <thead>\n",
              "    <tr>\n",
              "      <th></th>\n",
              "      <th colspan=\"3\" halign=\"left\">rating</th>\n",
              "    </tr>\n",
              "    <tr>\n",
              "      <th></th>\n",
              "      <th>count</th>\n",
              "      <th>median</th>\n",
              "      <th>mean</th>\n",
              "    </tr>\n",
              "    <tr>\n",
              "      <th>movieId</th>\n",
              "      <th></th>\n",
              "      <th></th>\n",
              "      <th></th>\n",
              "    </tr>\n",
              "  </thead>\n",
              "  <tbody>\n",
              "    <tr>\n",
              "      <th>1</th>\n",
              "      <td>247</td>\n",
              "      <td>4.0</td>\n",
              "      <td>3.872470</td>\n",
              "    </tr>\n",
              "    <tr>\n",
              "      <th>2</th>\n",
              "      <td>107</td>\n",
              "      <td>3.0</td>\n",
              "      <td>3.401869</td>\n",
              "    </tr>\n",
              "    <tr>\n",
              "      <th>3</th>\n",
              "      <td>59</td>\n",
              "      <td>3.0</td>\n",
              "      <td>3.161017</td>\n",
              "    </tr>\n",
              "    <tr>\n",
              "      <th>4</th>\n",
              "      <td>13</td>\n",
              "      <td>3.0</td>\n",
              "      <td>2.384615</td>\n",
              "    </tr>\n",
              "    <tr>\n",
              "      <th>5</th>\n",
              "      <td>56</td>\n",
              "      <td>3.0</td>\n",
              "      <td>3.267857</td>\n",
              "    </tr>\n",
              "  </tbody>\n",
              "</table>\n",
              "</div>"
            ],
            "text/plain": [
              "        rating                 \n",
              "         count median      mean\n",
              "movieId                        \n",
              "1          247    4.0  3.872470\n",
              "2          107    3.0  3.401869\n",
              "3           59    3.0  3.161017\n",
              "4           13    3.0  2.384615\n",
              "5           56    3.0  3.267857"
            ]
          },
          "execution_count": 13,
          "metadata": {},
          "output_type": "execute_result"
        }
      ],
      "source": [
        "movie_rating_summary.head()"
      ]
    },
    {
      "cell_type": "code",
      "execution_count": 14,
      "metadata": {
        "colab": {
          "base_uri": "https://localhost:8080/"
        },
        "id": "kB7TU_der9in",
        "outputId": "35e59732-f584-4be2-9c16-95070ffa03ac"
      },
      "outputs": [
        {
          "data": {
            "text/plain": [
              "MultiIndex([('rating',  'count'),\n",
              "            ('rating', 'median'),\n",
              "            ('rating',   'mean')],\n",
              "           )"
            ]
          },
          "execution_count": 14,
          "metadata": {},
          "output_type": "execute_result"
        }
      ],
      "source": [
        "movie_rating_summary.columns"
      ]
    },
    {
      "cell_type": "code",
      "execution_count": 15,
      "metadata": {
        "id": "W3jXMRhKtIn4"
      },
      "outputs": [],
      "source": [
        "movie_rating_summary.columns = [\"count\", \"median\", \"mean\"]"
      ]
    },
    {
      "cell_type": "code",
      "execution_count": 16,
      "metadata": {
        "colab": {
          "base_uri": "https://localhost:8080/",
          "height": 394
        },
        "id": "GC70Vr6osj-4",
        "outputId": "1284219c-c59a-47d8-b84c-852c858ade34"
      },
      "outputs": [
        {
          "data": {
            "text/html": [
              "<div>\n",
              "<style scoped>\n",
              "    .dataframe tbody tr th:only-of-type {\n",
              "        vertical-align: middle;\n",
              "    }\n",
              "\n",
              "    .dataframe tbody tr th {\n",
              "        vertical-align: top;\n",
              "    }\n",
              "\n",
              "    .dataframe thead th {\n",
              "        text-align: right;\n",
              "    }\n",
              "</style>\n",
              "<table border=\"1\" class=\"dataframe\">\n",
              "  <thead>\n",
              "    <tr style=\"text-align: right;\">\n",
              "      <th></th>\n",
              "      <th>count</th>\n",
              "      <th>median</th>\n",
              "      <th>mean</th>\n",
              "    </tr>\n",
              "    <tr>\n",
              "      <th>movieId</th>\n",
              "      <th></th>\n",
              "      <th></th>\n",
              "      <th></th>\n",
              "    </tr>\n",
              "  </thead>\n",
              "  <tbody>\n",
              "    <tr>\n",
              "      <th>356</th>\n",
              "      <td>341</td>\n",
              "      <td>4.0</td>\n",
              "      <td>4.054252</td>\n",
              "    </tr>\n",
              "    <tr>\n",
              "      <th>296</th>\n",
              "      <td>324</td>\n",
              "      <td>4.5</td>\n",
              "      <td>4.256173</td>\n",
              "    </tr>\n",
              "    <tr>\n",
              "      <th>318</th>\n",
              "      <td>311</td>\n",
              "      <td>5.0</td>\n",
              "      <td>4.487138</td>\n",
              "    </tr>\n",
              "    <tr>\n",
              "      <th>593</th>\n",
              "      <td>304</td>\n",
              "      <td>4.0</td>\n",
              "      <td>4.138158</td>\n",
              "    </tr>\n",
              "    <tr>\n",
              "      <th>260</th>\n",
              "      <td>291</td>\n",
              "      <td>4.5</td>\n",
              "      <td>4.221649</td>\n",
              "    </tr>\n",
              "    <tr>\n",
              "      <th>480</th>\n",
              "      <td>274</td>\n",
              "      <td>4.0</td>\n",
              "      <td>3.706204</td>\n",
              "    </tr>\n",
              "    <tr>\n",
              "      <th>2571</th>\n",
              "      <td>259</td>\n",
              "      <td>4.5</td>\n",
              "      <td>4.183398</td>\n",
              "    </tr>\n",
              "    <tr>\n",
              "      <th>1</th>\n",
              "      <td>247</td>\n",
              "      <td>4.0</td>\n",
              "      <td>3.872470</td>\n",
              "    </tr>\n",
              "    <tr>\n",
              "      <th>527</th>\n",
              "      <td>244</td>\n",
              "      <td>4.5</td>\n",
              "      <td>4.303279</td>\n",
              "    </tr>\n",
              "    <tr>\n",
              "      <th>589</th>\n",
              "      <td>237</td>\n",
              "      <td>4.0</td>\n",
              "      <td>4.006329</td>\n",
              "    </tr>\n",
              "  </tbody>\n",
              "</table>\n",
              "</div>"
            ],
            "text/plain": [
              "         count  median      mean\n",
              "movieId                         \n",
              "356        341     4.0  4.054252\n",
              "296        324     4.5  4.256173\n",
              "318        311     5.0  4.487138\n",
              "593        304     4.0  4.138158\n",
              "260        291     4.5  4.221649\n",
              "480        274     4.0  3.706204\n",
              "2571       259     4.5  4.183398\n",
              "1          247     4.0  3.872470\n",
              "527        244     4.5  4.303279\n",
              "589        237     4.0  4.006329"
            ]
          },
          "execution_count": 16,
          "metadata": {},
          "output_type": "execute_result"
        }
      ],
      "source": [
        "movie_rating_summary.sort_values(\"count\", ascending=False).head(10)"
      ]
    },
    {
      "cell_type": "code",
      "execution_count": 17,
      "metadata": {
        "colab": {
          "base_uri": "https://localhost:8080/",
          "height": 394
        },
        "id": "N3Unz16vswiQ",
        "outputId": "1020d91c-4c7a-4db0-ecd9-b1703802c852"
      },
      "outputs": [
        {
          "data": {
            "text/html": [
              "<div>\n",
              "<style scoped>\n",
              "    .dataframe tbody tr th:only-of-type {\n",
              "        vertical-align: middle;\n",
              "    }\n",
              "\n",
              "    .dataframe tbody tr th {\n",
              "        vertical-align: top;\n",
              "    }\n",
              "\n",
              "    .dataframe thead th {\n",
              "        text-align: right;\n",
              "    }\n",
              "</style>\n",
              "<table border=\"1\" class=\"dataframe\">\n",
              "  <thead>\n",
              "    <tr style=\"text-align: right;\">\n",
              "      <th></th>\n",
              "      <th>count</th>\n",
              "      <th>median</th>\n",
              "      <th>mean</th>\n",
              "    </tr>\n",
              "    <tr>\n",
              "      <th>movieId</th>\n",
              "      <th></th>\n",
              "      <th></th>\n",
              "      <th></th>\n",
              "    </tr>\n",
              "  </thead>\n",
              "  <tbody>\n",
              "    <tr>\n",
              "      <th>163949</th>\n",
              "      <td>1</td>\n",
              "      <td>5.0</td>\n",
              "      <td>5.0</td>\n",
              "    </tr>\n",
              "    <tr>\n",
              "      <th>71180</th>\n",
              "      <td>1</td>\n",
              "      <td>5.0</td>\n",
              "      <td>5.0</td>\n",
              "    </tr>\n",
              "    <tr>\n",
              "      <th>51471</th>\n",
              "      <td>1</td>\n",
              "      <td>5.0</td>\n",
              "      <td>5.0</td>\n",
              "    </tr>\n",
              "    <tr>\n",
              "      <th>52617</th>\n",
              "      <td>1</td>\n",
              "      <td>5.0</td>\n",
              "      <td>5.0</td>\n",
              "    </tr>\n",
              "    <tr>\n",
              "      <th>53887</th>\n",
              "      <td>1</td>\n",
              "      <td>5.0</td>\n",
              "      <td>5.0</td>\n",
              "    </tr>\n",
              "    <tr>\n",
              "      <th>54251</th>\n",
              "      <td>1</td>\n",
              "      <td>5.0</td>\n",
              "      <td>5.0</td>\n",
              "    </tr>\n",
              "    <tr>\n",
              "      <th>54328</th>\n",
              "      <td>1</td>\n",
              "      <td>5.0</td>\n",
              "      <td>5.0</td>\n",
              "    </tr>\n",
              "    <tr>\n",
              "      <th>55555</th>\n",
              "      <td>1</td>\n",
              "      <td>5.0</td>\n",
              "      <td>5.0</td>\n",
              "    </tr>\n",
              "    <tr>\n",
              "      <th>56869</th>\n",
              "      <td>1</td>\n",
              "      <td>5.0</td>\n",
              "      <td>5.0</td>\n",
              "    </tr>\n",
              "    <tr>\n",
              "      <th>57038</th>\n",
              "      <td>1</td>\n",
              "      <td>5.0</td>\n",
              "      <td>5.0</td>\n",
              "    </tr>\n",
              "  </tbody>\n",
              "</table>\n",
              "</div>"
            ],
            "text/plain": [
              "         count  median  mean\n",
              "movieId                     \n",
              "163949       1     5.0   5.0\n",
              "71180        1     5.0   5.0\n",
              "51471        1     5.0   5.0\n",
              "52617        1     5.0   5.0\n",
              "53887        1     5.0   5.0\n",
              "54251        1     5.0   5.0\n",
              "54328        1     5.0   5.0\n",
              "55555        1     5.0   5.0\n",
              "56869        1     5.0   5.0\n",
              "57038        1     5.0   5.0"
            ]
          },
          "execution_count": 17,
          "metadata": {},
          "output_type": "execute_result"
        }
      ],
      "source": [
        "movie_rating_summary.sort_values(\"mean\", ascending=False).head(10)"
      ]
    },
    {
      "cell_type": "code",
      "execution_count": 18,
      "metadata": {
        "colab": {
          "base_uri": "https://localhost:8080/",
          "height": 394
        },
        "id": "hGtlvkOltTug",
        "outputId": "8f150f37-9a06-4894-ee29-0c958e91aca9"
      },
      "outputs": [
        {
          "data": {
            "text/html": [
              "<div>\n",
              "<style scoped>\n",
              "    .dataframe tbody tr th:only-of-type {\n",
              "        vertical-align: middle;\n",
              "    }\n",
              "\n",
              "    .dataframe tbody tr th {\n",
              "        vertical-align: top;\n",
              "    }\n",
              "\n",
              "    .dataframe thead th {\n",
              "        text-align: right;\n",
              "    }\n",
              "</style>\n",
              "<table border=\"1\" class=\"dataframe\">\n",
              "  <thead>\n",
              "    <tr style=\"text-align: right;\">\n",
              "      <th></th>\n",
              "      <th>count</th>\n",
              "      <th>median</th>\n",
              "      <th>mean</th>\n",
              "    </tr>\n",
              "    <tr>\n",
              "      <th>movieId</th>\n",
              "      <th></th>\n",
              "      <th></th>\n",
              "      <th></th>\n",
              "    </tr>\n",
              "  </thead>\n",
              "  <tbody>\n",
              "    <tr>\n",
              "      <th>858</th>\n",
              "      <td>200</td>\n",
              "      <td>5.00</td>\n",
              "      <td>4.487500</td>\n",
              "    </tr>\n",
              "    <tr>\n",
              "      <th>318</th>\n",
              "      <td>311</td>\n",
              "      <td>5.00</td>\n",
              "      <td>4.487138</td>\n",
              "    </tr>\n",
              "    <tr>\n",
              "      <th>1221</th>\n",
              "      <td>135</td>\n",
              "      <td>5.00</td>\n",
              "      <td>4.385185</td>\n",
              "    </tr>\n",
              "    <tr>\n",
              "      <th>50</th>\n",
              "      <td>201</td>\n",
              "      <td>4.50</td>\n",
              "      <td>4.370647</td>\n",
              "    </tr>\n",
              "    <tr>\n",
              "      <th>527</th>\n",
              "      <td>244</td>\n",
              "      <td>4.50</td>\n",
              "      <td>4.303279</td>\n",
              "    </tr>\n",
              "    <tr>\n",
              "      <th>1193</th>\n",
              "      <td>144</td>\n",
              "      <td>4.50</td>\n",
              "      <td>4.256944</td>\n",
              "    </tr>\n",
              "    <tr>\n",
              "      <th>608</th>\n",
              "      <td>224</td>\n",
              "      <td>4.50</td>\n",
              "      <td>4.256696</td>\n",
              "    </tr>\n",
              "    <tr>\n",
              "      <th>296</th>\n",
              "      <td>324</td>\n",
              "      <td>4.50</td>\n",
              "      <td>4.256173</td>\n",
              "    </tr>\n",
              "    <tr>\n",
              "      <th>2858</th>\n",
              "      <td>220</td>\n",
              "      <td>4.25</td>\n",
              "      <td>4.236364</td>\n",
              "    </tr>\n",
              "    <tr>\n",
              "      <th>58559</th>\n",
              "      <td>121</td>\n",
              "      <td>4.50</td>\n",
              "      <td>4.235537</td>\n",
              "    </tr>\n",
              "  </tbody>\n",
              "</table>\n",
              "</div>"
            ],
            "text/plain": [
              "         count  median      mean\n",
              "movieId                         \n",
              "858        200    5.00  4.487500\n",
              "318        311    5.00  4.487138\n",
              "1221       135    5.00  4.385185\n",
              "50         201    4.50  4.370647\n",
              "527        244    4.50  4.303279\n",
              "1193       144    4.50  4.256944\n",
              "608        224    4.50  4.256696\n",
              "296        324    4.50  4.256173\n",
              "2858       220    4.25  4.236364\n",
              "58559      121    4.50  4.235537"
            ]
          },
          "execution_count": 18,
          "metadata": {},
          "output_type": "execute_result"
        }
      ],
      "source": [
        "movie_rating_summary[movie_rating_summary[\"count\"] > 100].sort_values(\"mean\", ascending=False).head(10)"
      ]
    },
    {
      "cell_type": "code",
      "execution_count": 19,
      "metadata": {
        "colab": {
          "base_uri": "https://localhost:8080/",
          "height": 667
        },
        "id": "n9jnr3U0ta9T",
        "outputId": "606f2768-0e85-41d5-c76d-ed3f7352c5f0"
      },
      "outputs": [
        {
          "name": "stderr",
          "output_type": "stream",
          "text": [
            "/var/folders/qg/b8v1nh_d69760npt2k4xd1jc0000gn/T/ipykernel_80344/2798869909.py:5: UserWarning: \n",
            "\n",
            "`distplot` is a deprecated function and will be removed in seaborn v0.14.0.\n",
            "\n",
            "Please adapt your code to use either `displot` (a figure-level function with\n",
            "similar flexibility) or `histplot` (an axes-level function for histograms).\n",
            "\n",
            "For a guide to updating your code to use the new functions, please see\n",
            "https://gist.github.com/mwaskom/de44147ed2974457ad6372750bbe5751\n",
            "\n",
            "  sns.distplot(a=movie_rating_summary['mean'], kde=True, color='r')\n"
          ]
        },
        {
          "data": {
            "text/plain": [
              "<Axes: xlabel='mean', ylabel='Density'>"
            ]
          },
          "execution_count": 19,
          "metadata": {},
          "output_type": "execute_result"
        },
        {
          "data": {
            "image/png": "[encoded data removed]",
            "text/plain": [
              "<Figure size 1600x800 with 1 Axes>"
            ]
          },
          "metadata": {},
          "output_type": "display_data"
        }
      ],
      "source": [
        "import seaborn as sns\n",
        "import matplotlib.pyplot as plt\n",
        "\n",
        "plt.figure(figsize=(16,8)) # 영역 잡기\n",
        "sns.distplot(a=movie_rating_summary['mean'], kde=True, color='r')"
      ]
    },
    {
      "cell_type": "code",
      "execution_count": 20,
      "metadata": {
        "colab": {
          "base_uri": "https://localhost:8080/",
          "height": 657
        },
        "id": "7KtT0h1ot-tY",
        "outputId": "c40606db-68d5-47d6-98b4-f30dc84037a2"
      },
      "outputs": [
        {
          "name": "stderr",
          "output_type": "stream",
          "text": [
            "/var/folders/qg/b8v1nh_d69760npt2k4xd1jc0000gn/T/ipykernel_80344/2922949232.py:1: UserWarning: \n",
            "\n",
            "`distplot` is a deprecated function and will be removed in seaborn v0.14.0.\n",
            "\n",
            "Please adapt your code to use either `displot` (a figure-level function with\n",
            "similar flexibility) or `histplot` (an axes-level function for histograms).\n",
            "\n",
            "For a guide to updating your code to use the new functions, please see\n",
            "https://gist.github.com/mwaskom/de44147ed2974457ad6372750bbe5751\n",
            "\n",
            "  sns.distplot(a=movie_rating_summary['count'], color='g')\n"
          ]
        },
        {
          "data": {
            "text/plain": [
              "<Axes: xlabel='count', ylabel='Density'>"
            ]
          },
          "execution_count": 20,
          "metadata": {},
          "output_type": "execute_result"
        },
        {
          "data": {
            "image/png": "[encoded data removed]",
            "text/plain": [
              "<Figure size 640x480 with 1 Axes>"
            ]
          },
          "metadata": {},
          "output_type": "display_data"
        }
      ],
      "source": [
        "sns.distplot(a=movie_rating_summary['count'], color='g')"
      ]
    },
    {
      "cell_type": "code",
      "execution_count": 21,
      "metadata": {
        "colab": {
          "base_uri": "https://localhost:8080/"
        },
        "id": "Qgqvhe7ju28o",
        "outputId": "999d4b51-b13d-4292-b6ce-e632850ac57a"
      },
      "outputs": [
        {
          "data": {
            "text/plain": [
              "671"
            ]
          },
          "execution_count": 21,
          "metadata": {},
          "output_type": "execute_result"
        }
      ],
      "source": [
        "movie_ratings[\"userId\"].nunique()"
      ]
    },
    {
      "cell_type": "code",
      "execution_count": 22,
      "metadata": {
        "id": "ThSh00GOu4LN"
      },
      "outputs": [],
      "source": [
        "user_rating_summary = movie_ratings[[\"userId\", \"rating\"]].groupby([\"userId\"]).agg([\"count\", \"median\", \"mean\"])"
      ]
    },
    {
      "cell_type": "code",
      "execution_count": 23,
      "metadata": {
        "colab": {
          "base_uri": "https://localhost:8080/",
          "height": 269
        },
        "id": "3cl7PSuwvCUh",
        "outputId": "78b0da95-3e8d-4f93-cf0a-4206ed1e680d"
      },
      "outputs": [
        {
          "data": {
            "text/html": [
              "<div>\n",
              "<style scoped>\n",
              "    .dataframe tbody tr th:only-of-type {\n",
              "        vertical-align: middle;\n",
              "    }\n",
              "\n",
              "    .dataframe tbody tr th {\n",
              "        vertical-align: top;\n",
              "    }\n",
              "\n",
              "    .dataframe thead tr th {\n",
              "        text-align: left;\n",
              "    }\n",
              "\n",
              "    .dataframe thead tr:last-of-type th {\n",
              "        text-align: right;\n",
              "    }\n",
              "</style>\n",
              "<table border=\"1\" class=\"dataframe\">\n",
              "  <thead>\n",
              "    <tr>\n",
              "      <th></th>\n",
              "      <th colspan=\"3\" halign=\"left\">rating</th>\n",
              "    </tr>\n",
              "    <tr>\n",
              "      <th></th>\n",
              "      <th>count</th>\n",
              "      <th>median</th>\n",
              "      <th>mean</th>\n",
              "    </tr>\n",
              "    <tr>\n",
              "      <th>userId</th>\n",
              "      <th></th>\n",
              "      <th></th>\n",
              "      <th></th>\n",
              "    </tr>\n",
              "  </thead>\n",
              "  <tbody>\n",
              "    <tr>\n",
              "      <th>1</th>\n",
              "      <td>20</td>\n",
              "      <td>2.5</td>\n",
              "      <td>2.550000</td>\n",
              "    </tr>\n",
              "    <tr>\n",
              "      <th>2</th>\n",
              "      <td>76</td>\n",
              "      <td>3.0</td>\n",
              "      <td>3.486842</td>\n",
              "    </tr>\n",
              "    <tr>\n",
              "      <th>3</th>\n",
              "      <td>51</td>\n",
              "      <td>3.5</td>\n",
              "      <td>3.568627</td>\n",
              "    </tr>\n",
              "    <tr>\n",
              "      <th>4</th>\n",
              "      <td>204</td>\n",
              "      <td>5.0</td>\n",
              "      <td>4.348039</td>\n",
              "    </tr>\n",
              "    <tr>\n",
              "      <th>5</th>\n",
              "      <td>100</td>\n",
              "      <td>4.0</td>\n",
              "      <td>3.910000</td>\n",
              "    </tr>\n",
              "  </tbody>\n",
              "</table>\n",
              "</div>"
            ],
            "text/plain": [
              "       rating                 \n",
              "        count median      mean\n",
              "userId                        \n",
              "1          20    2.5  2.550000\n",
              "2          76    3.0  3.486842\n",
              "3          51    3.5  3.568627\n",
              "4         204    5.0  4.348039\n",
              "5         100    4.0  3.910000"
            ]
          },
          "execution_count": 23,
          "metadata": {},
          "output_type": "execute_result"
        }
      ],
      "source": [
        "user_rating_summary.head()"
      ]
    },
    {
      "cell_type": "code",
      "execution_count": 24,
      "metadata": {
        "id": "0K7Ya-aYvH-q"
      },
      "outputs": [],
      "source": [
        "user_rating_summary.columns = [\"count\", \"median\", \"mean\"]"
      ]
    },
    {
      "cell_type": "code",
      "execution_count": 25,
      "metadata": {
        "colab": {
          "base_uri": "https://localhost:8080/",
          "height": 394
        },
        "id": "NT660eCjvLMU",
        "outputId": "677c5bee-453f-4ffa-8199-fad9a43acc9d"
      },
      "outputs": [
        {
          "data": {
            "text/html": [
              "<div>\n",
              "<style scoped>\n",
              "    .dataframe tbody tr th:only-of-type {\n",
              "        vertical-align: middle;\n",
              "    }\n",
              "\n",
              "    .dataframe tbody tr th {\n",
              "        vertical-align: top;\n",
              "    }\n",
              "\n",
              "    .dataframe thead th {\n",
              "        text-align: right;\n",
              "    }\n",
              "</style>\n",
              "<table border=\"1\" class=\"dataframe\">\n",
              "  <thead>\n",
              "    <tr style=\"text-align: right;\">\n",
              "      <th></th>\n",
              "      <th>count</th>\n",
              "      <th>median</th>\n",
              "      <th>mean</th>\n",
              "    </tr>\n",
              "    <tr>\n",
              "      <th>userId</th>\n",
              "      <th></th>\n",
              "      <th></th>\n",
              "      <th></th>\n",
              "    </tr>\n",
              "  </thead>\n",
              "  <tbody>\n",
              "    <tr>\n",
              "      <th>547</th>\n",
              "      <td>2391</td>\n",
              "      <td>3.5</td>\n",
              "      <td>3.366792</td>\n",
              "    </tr>\n",
              "    <tr>\n",
              "      <th>564</th>\n",
              "      <td>1868</td>\n",
              "      <td>4.0</td>\n",
              "      <td>3.552463</td>\n",
              "    </tr>\n",
              "    <tr>\n",
              "      <th>624</th>\n",
              "      <td>1735</td>\n",
              "      <td>3.0</td>\n",
              "      <td>2.894236</td>\n",
              "    </tr>\n",
              "    <tr>\n",
              "      <th>15</th>\n",
              "      <td>1700</td>\n",
              "      <td>3.0</td>\n",
              "      <td>2.621765</td>\n",
              "    </tr>\n",
              "    <tr>\n",
              "      <th>73</th>\n",
              "      <td>1610</td>\n",
              "      <td>3.5</td>\n",
              "      <td>3.374224</td>\n",
              "    </tr>\n",
              "    <tr>\n",
              "      <th>452</th>\n",
              "      <td>1340</td>\n",
              "      <td>3.0</td>\n",
              "      <td>3.189179</td>\n",
              "    </tr>\n",
              "    <tr>\n",
              "      <th>468</th>\n",
              "      <td>1291</td>\n",
              "      <td>3.0</td>\n",
              "      <td>2.965918</td>\n",
              "    </tr>\n",
              "    <tr>\n",
              "      <th>380</th>\n",
              "      <td>1063</td>\n",
              "      <td>3.5</td>\n",
              "      <td>3.366416</td>\n",
              "    </tr>\n",
              "    <tr>\n",
              "      <th>311</th>\n",
              "      <td>1019</td>\n",
              "      <td>3.0</td>\n",
              "      <td>3.006379</td>\n",
              "    </tr>\n",
              "    <tr>\n",
              "      <th>30</th>\n",
              "      <td>1011</td>\n",
              "      <td>4.0</td>\n",
              "      <td>3.765084</td>\n",
              "    </tr>\n",
              "  </tbody>\n",
              "</table>\n",
              "</div>"
            ],
            "text/plain": [
              "        count  median      mean\n",
              "userId                         \n",
              "547      2391     3.5  3.366792\n",
              "564      1868     4.0  3.552463\n",
              "624      1735     3.0  2.894236\n",
              "15       1700     3.0  2.621765\n",
              "73       1610     3.5  3.374224\n",
              "452      1340     3.0  3.189179\n",
              "468      1291     3.0  2.965918\n",
              "380      1063     3.5  3.366416\n",
              "311      1019     3.0  3.006379\n",
              "30       1011     4.0  3.765084"
            ]
          },
          "execution_count": 25,
          "metadata": {},
          "output_type": "execute_result"
        }
      ],
      "source": [
        "user_rating_summary.sort_values(\"count\", ascending=False).head(10)"
      ]
    },
    {
      "cell_type": "code",
      "execution_count": 26,
      "metadata": {
        "colab": {
          "base_uri": "https://localhost:8080/",
          "height": 394
        },
        "id": "fHL_mm8yvQQT",
        "outputId": "061e7454-8531-4f9b-adb1-bad69428f84f"
      },
      "outputs": [
        {
          "data": {
            "text/html": [
              "<div>\n",
              "<style scoped>\n",
              "    .dataframe tbody tr th:only-of-type {\n",
              "        vertical-align: middle;\n",
              "    }\n",
              "\n",
              "    .dataframe tbody tr th {\n",
              "        vertical-align: top;\n",
              "    }\n",
              "\n",
              "    .dataframe thead th {\n",
              "        text-align: right;\n",
              "    }\n",
              "</style>\n",
              "<table border=\"1\" class=\"dataframe\">\n",
              "  <thead>\n",
              "    <tr style=\"text-align: right;\">\n",
              "      <th></th>\n",
              "      <th>count</th>\n",
              "      <th>median</th>\n",
              "      <th>mean</th>\n",
              "    </tr>\n",
              "    <tr>\n",
              "      <th>userId</th>\n",
              "      <th></th>\n",
              "      <th></th>\n",
              "      <th></th>\n",
              "    </tr>\n",
              "  </thead>\n",
              "  <tbody>\n",
              "    <tr>\n",
              "      <th>230</th>\n",
              "      <td>94</td>\n",
              "      <td>5.0</td>\n",
              "      <td>4.473404</td>\n",
              "    </tr>\n",
              "    <tr>\n",
              "      <th>432</th>\n",
              "      <td>62</td>\n",
              "      <td>5.0</td>\n",
              "      <td>4.411290</td>\n",
              "    </tr>\n",
              "    <tr>\n",
              "      <th>622</th>\n",
              "      <td>31</td>\n",
              "      <td>5.0</td>\n",
              "      <td>4.725806</td>\n",
              "    </tr>\n",
              "    <tr>\n",
              "      <th>499</th>\n",
              "      <td>33</td>\n",
              "      <td>5.0</td>\n",
              "      <td>4.272727</td>\n",
              "    </tr>\n",
              "    <tr>\n",
              "      <th>145</th>\n",
              "      <td>38</td>\n",
              "      <td>5.0</td>\n",
              "      <td>4.500000</td>\n",
              "    </tr>\n",
              "    <tr>\n",
              "      <th>559</th>\n",
              "      <td>129</td>\n",
              "      <td>5.0</td>\n",
              "      <td>4.418605</td>\n",
              "    </tr>\n",
              "    <tr>\n",
              "      <th>473</th>\n",
              "      <td>76</td>\n",
              "      <td>5.0</td>\n",
              "      <td>4.315789</td>\n",
              "    </tr>\n",
              "    <tr>\n",
              "      <th>28</th>\n",
              "      <td>50</td>\n",
              "      <td>5.0</td>\n",
              "      <td>4.280000</td>\n",
              "    </tr>\n",
              "    <tr>\n",
              "      <th>556</th>\n",
              "      <td>25</td>\n",
              "      <td>5.0</td>\n",
              "      <td>4.400000</td>\n",
              "    </tr>\n",
              "    <tr>\n",
              "      <th>242</th>\n",
              "      <td>399</td>\n",
              "      <td>5.0</td>\n",
              "      <td>4.466165</td>\n",
              "    </tr>\n",
              "  </tbody>\n",
              "</table>\n",
              "</div>"
            ],
            "text/plain": [
              "        count  median      mean\n",
              "userId                         \n",
              "230        94     5.0  4.473404\n",
              "432        62     5.0  4.411290\n",
              "622        31     5.0  4.725806\n",
              "499        33     5.0  4.272727\n",
              "145        38     5.0  4.500000\n",
              "559       129     5.0  4.418605\n",
              "473        76     5.0  4.315789\n",
              "28         50     5.0  4.280000\n",
              "556        25     5.0  4.400000\n",
              "242       399     5.0  4.466165"
            ]
          },
          "execution_count": 26,
          "metadata": {},
          "output_type": "execute_result"
        }
      ],
      "source": [
        "user_rating_summary.sort_values(\"median\", ascending=False).head(10)"
      ]
    },
    {
      "cell_type": "code",
      "execution_count": 27,
      "metadata": {
        "colab": {
          "base_uri": "https://localhost:8080/",
          "height": 394
        },
        "id": "GBvnP12BvTnP",
        "outputId": "88d4c8fb-7483-4c63-d4f8-1e707e391bc5"
      },
      "outputs": [
        {
          "data": {
            "text/html": [
              "<div>\n",
              "<style scoped>\n",
              "    .dataframe tbody tr th:only-of-type {\n",
              "        vertical-align: middle;\n",
              "    }\n",
              "\n",
              "    .dataframe tbody tr th {\n",
              "        vertical-align: top;\n",
              "    }\n",
              "\n",
              "    .dataframe thead th {\n",
              "        text-align: right;\n",
              "    }\n",
              "</style>\n",
              "<table border=\"1\" class=\"dataframe\">\n",
              "  <thead>\n",
              "    <tr style=\"text-align: right;\">\n",
              "      <th></th>\n",
              "      <th>count</th>\n",
              "      <th>median</th>\n",
              "      <th>mean</th>\n",
              "    </tr>\n",
              "    <tr>\n",
              "      <th>userId</th>\n",
              "      <th></th>\n",
              "      <th></th>\n",
              "      <th></th>\n",
              "    </tr>\n",
              "  </thead>\n",
              "  <tbody>\n",
              "    <tr>\n",
              "      <th>207</th>\n",
              "      <td>46</td>\n",
              "      <td>0.50</td>\n",
              "      <td>1.804348</td>\n",
              "    </tr>\n",
              "    <tr>\n",
              "      <th>581</th>\n",
              "      <td>49</td>\n",
              "      <td>0.50</td>\n",
              "      <td>1.459184</td>\n",
              "    </tr>\n",
              "    <tr>\n",
              "      <th>579</th>\n",
              "      <td>21</td>\n",
              "      <td>0.50</td>\n",
              "      <td>1.333333</td>\n",
              "    </tr>\n",
              "    <tr>\n",
              "      <th>609</th>\n",
              "      <td>140</td>\n",
              "      <td>1.00</td>\n",
              "      <td>1.985714</td>\n",
              "    </tr>\n",
              "    <tr>\n",
              "      <th>429</th>\n",
              "      <td>27</td>\n",
              "      <td>2.00</td>\n",
              "      <td>2.240741</td>\n",
              "    </tr>\n",
              "    <tr>\n",
              "      <th>315</th>\n",
              "      <td>55</td>\n",
              "      <td>2.00</td>\n",
              "      <td>2.454545</td>\n",
              "    </tr>\n",
              "    <tr>\n",
              "      <th>325</th>\n",
              "      <td>20</td>\n",
              "      <td>2.00</td>\n",
              "      <td>2.525000</td>\n",
              "    </tr>\n",
              "    <tr>\n",
              "      <th>35</th>\n",
              "      <td>20</td>\n",
              "      <td>2.25</td>\n",
              "      <td>2.400000</td>\n",
              "    </tr>\n",
              "    <tr>\n",
              "      <th>79</th>\n",
              "      <td>55</td>\n",
              "      <td>2.50</td>\n",
              "      <td>2.518182</td>\n",
              "    </tr>\n",
              "    <tr>\n",
              "      <th>210</th>\n",
              "      <td>32</td>\n",
              "      <td>2.50</td>\n",
              "      <td>2.953125</td>\n",
              "    </tr>\n",
              "  </tbody>\n",
              "</table>\n",
              "</div>"
            ],
            "text/plain": [
              "        count  median      mean\n",
              "userId                         \n",
              "207        46    0.50  1.804348\n",
              "581        49    0.50  1.459184\n",
              "579        21    0.50  1.333333\n",
              "609       140    1.00  1.985714\n",
              "429        27    2.00  2.240741\n",
              "315        55    2.00  2.454545\n",
              "325        20    2.00  2.525000\n",
              "35         20    2.25  2.400000\n",
              "79         55    2.50  2.518182\n",
              "210        32    2.50  2.953125"
            ]
          },
          "execution_count": 27,
          "metadata": {},
          "output_type": "execute_result"
        }
      ],
      "source": [
        "user_rating_summary.sort_values(\"median\", ascending=True).head(10)"
      ]
    },
    {
      "cell_type": "code",
      "execution_count": 28,
      "metadata": {
        "colab": {
          "base_uri": "https://localhost:8080/",
          "height": 657
        },
        "id": "mmEgkNDUvdHk",
        "outputId": "8b37cb23-9042-4a57-eedd-ae4481322ade"
      },
      "outputs": [
        {
          "name": "stderr",
          "output_type": "stream",
          "text": [
            "/var/folders/qg/b8v1nh_d69760npt2k4xd1jc0000gn/T/ipykernel_80344/816334758.py:1: UserWarning: \n",
            "\n",
            "`distplot` is a deprecated function and will be removed in seaborn v0.14.0.\n",
            "\n",
            "Please adapt your code to use either `displot` (a figure-level function with\n",
            "similar flexibility) or `histplot` (an axes-level function for histograms).\n",
            "\n",
            "For a guide to updating your code to use the new functions, please see\n",
            "https://gist.github.com/mwaskom/de44147ed2974457ad6372750bbe5751\n",
            "\n",
            "  sns.distplot(a=user_rating_summary['mean'], kde=True, color='r')\n"
          ]
        },
        {
          "data": {
            "text/plain": [
              "<Axes: xlabel='mean', ylabel='Density'>"
            ]
          },
          "execution_count": 28,
          "metadata": {},
          "output_type": "execute_result"
        },
        {
          "data": {
            "image/png": "[encoded data removed]",
            "text/plain": [
              "<Figure size 640x480 with 1 Axes>"
            ]
          },
          "metadata": {},
          "output_type": "display_data"
        }
      ],
      "source": [
        "sns.distplot(a=user_rating_summary['mean'], kde=True, color='r')"
      ]
    },
    {
      "cell_type": "code",
      "execution_count": 29,
      "metadata": {
        "colab": {
          "base_uri": "https://localhost:8080/",
          "height": 657
        },
        "id": "S-6SA_rxvjJn",
        "outputId": "8902bad9-e488-4e5a-d9de-1193d74a0323"
      },
      "outputs": [
        {
          "name": "stderr",
          "output_type": "stream",
          "text": [
            "/var/folders/qg/b8v1nh_d69760npt2k4xd1jc0000gn/T/ipykernel_80344/2208334410.py:1: UserWarning: \n",
            "\n",
            "`distplot` is a deprecated function and will be removed in seaborn v0.14.0.\n",
            "\n",
            "Please adapt your code to use either `displot` (a figure-level function with\n",
            "similar flexibility) or `histplot` (an axes-level function for histograms).\n",
            "\n",
            "For a guide to updating your code to use the new functions, please see\n",
            "https://gist.github.com/mwaskom/de44147ed2974457ad6372750bbe5751\n",
            "\n",
            "  sns.distplot(a=user_rating_summary['count'], kde=True, color='r')\n"
          ]
        },
        {
          "data": {
            "text/plain": [
              "<Axes: xlabel='count', ylabel='Density'>"
            ]
          },
          "execution_count": 29,
          "metadata": {},
          "output_type": "execute_result"
        },
        {
          "data": {
            "image/png": "[encoded data removed]",
            "text/plain": [
              "<Figure size 640x480 with 1 Axes>"
            ]
          },
          "metadata": {},
          "output_type": "display_data"
        }
      ],
      "source": [
        "sns.distplot(a=user_rating_summary['count'], kde=True, color='r')"
      ]
    },
    {
      "cell_type": "code",
      "execution_count": 30,
      "metadata": {
        "id": "CLs-VTevvlrO"
      },
      "outputs": [],
      "source": [
        "def getMovieName(movie_ratings, movieID):\n",
        "    return movie_ratings[movie_ratings[\"movieId\"] == movieID][[\"title\", \"genres\"]].values[0]\n",
        "\n",
        "def getMovieID(movie_ratings, movieName):\n",
        "    return movie_ratings[movie_ratings[\"title\"] == movieName][[\"movieId\", \"genres\"]].values[0]"
      ]
    },
    {
      "cell_type": "markdown",
      "metadata": {
        "id": "WHeH7DsyyxCa"
      },
      "source": [
        "## 영화 데이터를 surprise 모듈을 통해 로딩\n"
      ]
    },
    {
      "cell_type": "code",
      "execution_count": 31,
      "metadata": {},
      "outputs": [],
      "source": [
        "# !wget \"https://grepp-reco-test.s3.ap-northeast-2.amazonaws.com/movielens/ratings.csv\""
      ]
    },
    {
      "cell_type": "code",
      "execution_count": 32,
      "metadata": {
        "id": "ZgtyCtMaw8Eq"
      },
      "outputs": [],
      "source": [
        "# Surprise에 맞는 형식으로 사용하기위해 csv 파일내 데이터를 해당 모듈에 맞는 형식으로 명명\n",
        "# 첫번쨰 라인은 헤더니까 무시하라고 함\n",
        "reader = Reader(line_format='user item rating timestamp', sep=',', skip_lines=1)\n",
        "data = Dataset.load_from_file(\"data/ratings.csv\", reader=reader)"
      ]
    },
    {
      "cell_type": "code",
      "execution_count": 33,
      "metadata": {
        "id": "xn5gBOTgzWAR"
      },
      "outputs": [],
      "source": [
        "from surprise import KNNBasic\n",
        "import heapq\n",
        "from collections import defaultdict"
      ]
    },
    {
      "cell_type": "code",
      "execution_count": 34,
      "metadata": {
        "id": "RpkLzRulzza3"
      },
      "outputs": [],
      "source": [
        "trainSet = data.build_full_trainset() # surprise가 메모리로 로딩한데이터를 모두다 트레이닝셋으로 써라, 모델 기반할땐 테스트로 나눔"
      ]
    },
    {
      "cell_type": "code",
      "execution_count": 35,
      "metadata": {},
      "outputs": [
        {
          "name": "stdout",
          "output_type": "stream",
          "text": [
            "Computing the cosine similarity matrix...\n",
            "Done computing similarity matrix.\n",
            "Computing the cosine similarity matrix...\n",
            "Done computing similarity matrix.\n"
          ]
        }
      ],
      "source": [
        "# 유사도 로직 설정\n",
        "sim_options = {\n",
        "    'name': 'cosine',\n",
        "    'user_based': True\n",
        "}\n",
        "\n",
        "model = KNNBasic(sim_options=sim_options)\n",
        "model.fit(trainSet)\n",
        "simsMatrix = model.compute_similarities() # 사용자간 코사인 유사도 생성"
      ]
    },
    {
      "cell_type": "code",
      "execution_count": 36,
      "metadata": {
        "colab": {
          "base_uri": "https://localhost:8080/"
        },
        "id": "dYnKIcfx0BNh",
        "outputId": "fdd35d5f-f384-42c7-819a-1134e0eeeee4"
      },
      "outputs": [
        {
          "name": "stdout",
          "output_type": "stream",
          "text": [
            "84\n"
          ]
        }
      ],
      "source": [
        "testUser = '85' # 추천하고자 하는 유저 아이디\n",
        "k = 10\n",
        "\n",
        "# 주어진 사용자와 가장 흡사한 사용자 N을 찾는다\n",
        "\n",
        "testUserInnerID = trainSet.to_inner_uid(testUser)# 먼저 이를 Surprise 내부 ID로 변환\n",
        "print(testUserInnerID)\n",
        "# 이 사용자에 해당하는 레코드를 읽어온다\n",
        "similarityRow = simsMatrix[testUserInnerID]"
      ]
    },
    {
      "cell_type": "code",
      "execution_count": 37,
      "metadata": {},
      "outputs": [
        {
          "data": {
            "text/plain": [
              "(671,)"
            ]
          },
          "execution_count": 37,
          "metadata": {},
          "output_type": "execute_result"
        }
      ],
      "source": [
        "similarityRow.shape"
      ]
    },
    {
      "cell_type": "code",
      "execution_count": 38,
      "metadata": {
        "id": "ZXT62k1C0MXA"
      },
      "outputs": [
        {
          "data": {
            "text/plain": [
              "[(0, 0.0),\n",
              " (1, 0.9317437101818368),\n",
              " (2, 0.9462368828208907),\n",
              " (3, 0.9540317361976572),\n",
              " (4, 0.9653265298427278),\n",
              " (5, 0.9401267913629436),\n",
              " (6, 0.9400416732995409),\n",
              " (7, 0.9617144342731783),\n",
              " (8, 0.8569867148959759),\n",
              " (9, 0.9994838709333602),\n",
              " (10, 1.0),\n",
              " (11, 1.0),\n",
              " (12, 0.9378700239028726),\n",
              " (13, 1.0),\n",
              " (14, 0.9019531874292673),\n",
              " (15, 0.9191450300180578),\n",
              " (16, 0.8677956432513021),\n",
              " (17, 0.9823974175160344),\n",
              " (18, 0.907534543902125),\n",
              " (19, 0.8874250130080685),\n",
              " (20, 0.9461389844312209),\n",
              " (21, 0.9350354811229232),\n",
              " (22, 0.9434894296825902),\n",
              " (23, 0.9819388074905946),\n",
              " (24, 1.0),\n",
              " (25, 0.9222213677773493),\n",
              " (26, 0.9082682792306083),\n",
              " (27, 0.8547043234472846),\n",
              " (28, 0.0),\n",
              " (29, 0.9303425112253353),\n",
              " (30, 0.9128709291752768),\n",
              " (31, 0.9563015167404944),\n",
              " (32, 0.9384996000012742),\n",
              " (33, 0.9625265270969021),\n",
              " (34, 0.8),\n",
              " (35, 0.9133714890249096),\n",
              " (36, 1.0),\n",
              " (37, 0.9702345438513523),\n",
              " (38, 0.9754804241786637),\n",
              " (39, 0.0),\n",
              " (40, 0.9676724936112584),\n",
              " (41, 0.9703085034952702),\n",
              " (42, 0.8965730459858986),\n",
              " (43, 0.8857220963492212),\n",
              " (44, 1.0),\n",
              " (45, 1.0),\n",
              " (46, 0.9792960690339264),\n",
              " (47, 0.9611564747603182),\n",
              " (48, 0.934076071139456),\n",
              " (49, 0.9419504361232226),\n",
              " (50, 0.0),\n",
              " (51, 1.0),\n",
              " (52, 0.9216353751380653),\n",
              " (53, 1.0),\n",
              " (54, 0.9942205873301891),\n",
              " (55, 0.949574180929195),\n",
              " (56, 0.9417937240937848),\n",
              " (57, 0.9064232609850329),\n",
              " (58, 0.8311998106967106),\n",
              " (59, 0.972363234738814),\n",
              " (60, 0.9475258928163703),\n",
              " (61, 1.0),\n",
              " (62, 0.9518704680641585),\n",
              " (63, 0.9654267731365116),\n",
              " (64, 0.0),\n",
              " (65, 0.9941630266335697),\n",
              " (66, 0.940042450552686),\n",
              " (67, 0.971237465457113),\n",
              " (68, 0.9388245150706754),\n",
              " (69, 0.8380979995685074),\n",
              " (70, 1.0),\n",
              " (71, 0.9516957299492586),\n",
              " (72, 0.9211172106356137),\n",
              " (73, 0.9652303546573691),\n",
              " (74, 0.9164030244809659),\n",
              " (75, 0.0),\n",
              " (76, 0.9455127906613856),\n",
              " (77, 0.9567490258405495),\n",
              " (78, 0.970600915355007),\n",
              " (79, 0.9415130835240084),\n",
              " (80, 1.0),\n",
              " (81, 0.933870054193385),\n",
              " (82, 0.8715155761160899),\n",
              " (83, 0.9932740843258755),\n",
              " (85, 0.8720160654736511),\n",
              " (86, 0.9684959969581862),\n",
              " (87, 0.87353829555291),\n",
              " (88, 0.9733683680065118),\n",
              " (89, 1.0),\n",
              " (90, 0.9638506248899101),\n",
              " (91, 0.9190746119668859),\n",
              " (92, 0.9400130469979967),\n",
              " (93, 0.9197466192976055),\n",
              " (94, 0.9078503457074953),\n",
              " (95, 0.7831108474982938),\n",
              " (96, 0.921474826190153),\n",
              " (97, 0.9626359622136206),\n",
              " (98, 0.8981774262781437),\n",
              " (99, 0.8868440532177395),\n",
              " (100, 0.9402192507250244),\n",
              " (101, 0.864400763098508),\n",
              " (102, 0.9442345828068474),\n",
              " (103, 0.9972018709041054),\n",
              " (104, 0.9563257782770952),\n",
              " (105, 1.0),\n",
              " (106, 0.8858233390878898),\n",
              " (107, 0.9361131771923175),\n",
              " (108, 0.9837442555551394),\n",
              " (109, 0.9508451431986903),\n",
              " (110, 0.9475847365526534),\n",
              " (111, 0.8740792106817964),\n",
              " (112, 0.9538710324604655),\n",
              " (113, 0.9424815091044015),\n",
              " (114, 0.9657545263245794),\n",
              " (115, 0.9536345638155876),\n",
              " (116, 0.973616310567801),\n",
              " (117, 0.9597889720715909),\n",
              " (118, 0.9198985958230871),\n",
              " (119, 0.9724517134163865),\n",
              " (120, 0.9526582802005266),\n",
              " (121, 0.8938115738478053),\n",
              " (122, 1.0),\n",
              " (123, 0.9452318089324088),\n",
              " (124, 0.941069667304529),\n",
              " (125, 0.9559474552705827),\n",
              " (126, 0.9214136545265749),\n",
              " (127, 0.9411088591081527),\n",
              " (128, 1.0),\n",
              " (129, 0.9084223968105238),\n",
              " (130, 0.9962725072187498),\n",
              " (131, 0.9606462979805198),\n",
              " (132, 0.8978281990685978),\n",
              " (133, 0.961778404357098),\n",
              " (134, 0.9938837346736189),\n",
              " (135, 0.9661737762773283),\n",
              " (136, 0.9706058228524352),\n",
              " (137, 0.9422595002162103),\n",
              " (138, 0.9838800852984783),\n",
              " (139, 0.9651424765287248),\n",
              " (140, 0.9863435320507713),\n",
              " (141, 0.8621128097083085),\n",
              " (142, 0.9219436059562056),\n",
              " (143, 0.9540978615022427),\n",
              " (144, 0.9732812038550686),\n",
              " (145, 0.9434180145805341),\n",
              " (146, 0.938578553396256),\n",
              " (147, 0.944263761287399),\n",
              " (148, 0.962641455282584),\n",
              " (149, 0.9621799947298916),\n",
              " (150, 0.951495226652097),\n",
              " (151, 0.9424784202025831),\n",
              " (152, 0.9333333333333333),\n",
              " (153, 0.9635460822563594),\n",
              " (154, 0.8850727276162873),\n",
              " (155, 0.9315776194850602),\n",
              " (156, 0.9295389857944054),\n",
              " (157, 1.0),\n",
              " (158, 0.9297399034713074),\n",
              " (159, 0.9596162302465076),\n",
              " (160, 0.9463879849779245),\n",
              " (161, 0.9338366113496058),\n",
              " (162, 0.8946880262857531),\n",
              " (163, 0.9524905661424572),\n",
              " (164, 0.9364072089936899),\n",
              " (165, 0.9562777421760928),\n",
              " (166, 1.0),\n",
              " (167, 0.9483388921068622),\n",
              " (168, 1.0),\n",
              " (169, 1.0),\n",
              " (170, 0.9771398364036774),\n",
              " (171, 0.9592972091342938),\n",
              " (172, 1.0),\n",
              " (173, 0.9404179735161812),\n",
              " (174, 0.9378934722869389),\n",
              " (175, 0.9225053547913059),\n",
              " (176, 0.9636484628351806),\n",
              " (177, 0.9585363562790536),\n",
              " (178, 0.0),\n",
              " (179, 0.9191450300180578),\n",
              " (180, 0.9722066481023147),\n",
              " (181, 0.9187589495346092),\n",
              " (182, 0.9767328030946411),\n",
              " (183, 0.9578293258574683),\n",
              " (184, 0.9341511719402259),\n",
              " (185, 1.0),\n",
              " (186, 0.9299234375229599),\n",
              " (187, 0.9298588438071532),\n",
              " (188, 0.9762210399274298),\n",
              " (189, 0.0),\n",
              " (190, 0.9280887472413587),\n",
              " (191, 0.9208912336068534),\n",
              " (192, 0.9195679171027822),\n",
              " (193, 0.9383544465368162),\n",
              " (194, 0.9453566869486681),\n",
              " (195, 0.9271726499455306),\n",
              " (196, 0.9623413771115353),\n",
              " (197, 0.0),\n",
              " (198, 0.964921013490283),\n",
              " (199, 0.9535290804863175),\n",
              " (200, 0.9745215811130755),\n",
              " (201, 0.9797995743563299),\n",
              " (202, 0.9975295184354294),\n",
              " (203, 0.7071067811865476),\n",
              " (204, 0.9784557441318947),\n",
              " (205, 1.0),\n",
              " (206, 0.9734463721628048),\n",
              " (207, 0.9901415758180168),\n",
              " (208, 0.9866902717204079),\n",
              " (209, 0.9618890614488318),\n",
              " (210, 0.941449223986951),\n",
              " (211, 0.9074911911758706),\n",
              " (212, 0.9303526471210498),\n",
              " (213, 0.9303274174836467),\n",
              " (214, 0.8868440532177395),\n",
              " (215, 0.9118188823757325),\n",
              " (216, 0.9012468586893471),\n",
              " (217, 0.9643682640988265),\n",
              " (218, 0.9593894600921617),\n",
              " (219, 0.9197606188349204),\n",
              " (220, 0.9424040749333706),\n",
              " (221, 0.0),\n",
              " (222, 0.9573976026142562),\n",
              " (223, 0.9270729734007205),\n",
              " (224, 0.9627089438861041),\n",
              " (225, 1.0),\n",
              " (226, 0.0),\n",
              " (227, 0.9049253951507301),\n",
              " (228, 0.0),\n",
              " (229, 0.9789613017251205),\n",
              " (230, 0.98),\n",
              " (231, 0.9167708283906868),\n",
              " (232, 0.8764598212022147),\n",
              " (233, 0.9728646065814269),\n",
              " (234, 0.9631173772905588),\n",
              " (235, 0.9464703820518684),\n",
              " (236, 0.9312587037971881),\n",
              " (237, 0.97182531580755),\n",
              " (238, 0.9234982531701278),\n",
              " (239, 0.8982837383370208),\n",
              " (240, 0.9178755657703787),\n",
              " (241, 0.9701365792144758),\n",
              " (242, 0.9362392648563272),\n",
              " (243, 0.8524380115920954),\n",
              " (244, 0.9289550438488346),\n",
              " (245, 0.9661531280825695),\n",
              " (246, 0.9676664392450586),\n",
              " (247, 0.951142056112637),\n",
              " (248, 0.9385920461538001),\n",
              " (249, 0.9664848338659712),\n",
              " (250, 0.9102424185670565),\n",
              " (251, 0.9938837346736188),\n",
              " (252, 0.9727810465536988),\n",
              " (253, 0.9503102213319028),\n",
              " (254, 0.9309124983375412),\n",
              " (255, 0.7443229275647869),\n",
              " (256, 0.9217976907429088),\n",
              " (257, 0.0),\n",
              " (258, 0.9486832980505138),\n",
              " (259, 0.9721372935770374),\n",
              " (260, 0.9680817419522321),\n",
              " (261, 0.9149672259871071),\n",
              " (262, 0.9746450870330833),\n",
              " (263, 0.8799551054765924),\n",
              " (264, 0.8703882797784892),\n",
              " (265, 0.9286756070741273),\n",
              " (266, 1.0),\n",
              " (267, 0.92648521265869),\n",
              " (268, 0.0),\n",
              " (269, 1.0),\n",
              " (270, 0.9831642903695819),\n",
              " (271, 0.9843366432473037),\n",
              " (272, 0.9986534247384324),\n",
              " (273, 0.948055654384026),\n",
              " (274, 0.9811966650853594),\n",
              " (275, 0.9274414720324123),\n",
              " (276, 0.9873515259378667),\n",
              " (277, 0.9970544855015815),\n",
              " (278, 0.9248180875354214),\n",
              " (279, 0.8320502943378437),\n",
              " (280, 0.9583162669722077),\n",
              " (281, 0.9402851646749635),\n",
              " (282, 0.9141838359358267),\n",
              " (283, 0.9770084209183943),\n",
              " (284, 0.8927857869209873),\n",
              " (285, 0.9235481451827989),\n",
              " (286, 0.9799474020768442),\n",
              " (287, 0.9268388043708906),\n",
              " (288, 0.0),\n",
              " (289, 0.9890502914124348),\n",
              " (290, 0.9506822044177822),\n",
              " (291, 0.9483530320081427),\n",
              " (292, 0.9589266029707683),\n",
              " (293, 0.9320284226620302),\n",
              " (294, 0.9703975107357764),\n",
              " (295, 1.0),\n",
              " (296, 0.9709981800007342),\n",
              " (297, 0.9935591240195244),\n",
              " (298, 0.9124681173994756),\n",
              " (299, 0.9937765464662174),\n",
              " (300, 1.0),\n",
              " (301, 0.9467821755544642),\n",
              " (302, 0.9223268142725205),\n",
              " (303, 0.9477624923900863),\n",
              " (304, 0.9486832980505138),\n",
              " (305, 0.9394475555834687),\n",
              " (306, 0.9475909737987462),\n",
              " (307, 0.9039408965982084),\n",
              " (308, 0.9616044687782134),\n",
              " (309, 1.0),\n",
              " (310, 0.9012527618060688),\n",
              " (311, 0.8733669895495577),\n",
              " (312, 0.9533175959436071),\n",
              " (313, 0.995777903418978),\n",
              " (314, 0.0),\n",
              " (315, 0.9879195263882261),\n",
              " (316, 0.9519191272574312),\n",
              " (317, 0.9823974175160344),\n",
              " (318, 0.9781616146118924),\n",
              " (319, 0.9621023987294833),\n",
              " (320, 0.9087286691726559),\n",
              " (321, 0.0),\n",
              " (322, 0.9452234092780889),\n",
              " (323, 0.95662959755377),\n",
              " (324, 1.0),\n",
              " (325, 1.0),\n",
              " (326, 0.982108259982504),\n",
              " (327, 0.9732640346134377),\n",
              " (328, 0.9799578870122226),\n",
              " (329, 0.8877997981951745),\n",
              " (330, 0.8372950509428679),\n",
              " (331, 0.9946917938265513),\n",
              " (332, 0.9465745302183617),\n",
              " (333, 0.9848484848484849),\n",
              " (334, 0.0),\n",
              " (335, 0.9486832980505138),\n",
              " (336, 1.0),\n",
              " (337, 0.9394768979533886),\n",
              " (338, 0.9569621474146662),\n",
              " (339, 0.9595322710449896),\n",
              " (340, 0.0),\n",
              " (341, 0.8869747109873171),\n",
              " (342, 0.9938837346736188),\n",
              " (343, 0.9350457188111274),\n",
              " (344, 0.8952224689869803),\n",
              " (345, 0.8805462267099029),\n",
              " (346, 1.0),\n",
              " (347, 0.9651158648929904),\n",
              " (348, 0.9938837346736188),\n",
              " (349, 0.9710696115501661),\n",
              " (350, 0.8541985556144386),\n",
              " (351, 0.9371287811917746),\n",
              " (352, 0.9395668930894233),\n",
              " (353, 0.9248163403466934),\n",
              " (354, 0.9502325762892155),\n",
              " (355, 0.0),\n",
              " (356, 0.9002655307296148),\n",
              " (357, 0.8539757100558671),\n",
              " (358, 0.8793530341627341),\n",
              " (359, 0.9941348467724344),\n",
              " (360, 0.7065555740497553),\n",
              " (361, 0.9505167734003317),\n",
              " (362, 0.825124292780716),\n",
              " (363, 0.7808688094430304),\n",
              " (364, 0.9369877248749077),\n",
              " (365, 1.0),\n",
              " (366, 0.9255726959493746),\n",
              " (367, 1.0),\n",
              " (368, 0.9328192872375559),\n",
              " (369, 0.9228295211299162),\n",
              " (370, 0.9856190108028223),\n",
              " (371, 0.9995120760870788),\n",
              " (372, 0.9685285334000665),\n",
              " (373, 0.0),\n",
              " (374, 0.9463045695490861),\n",
              " (375, 0.9174698042719671),\n",
              " (376, 1.0),\n",
              " (377, 0.9074575629122537),\n",
              " (378, 0.9653223233469805),\n",
              " (379, 0.9644073542505074),\n",
              " (380, 0.8493413729920453),\n",
              " (381, 0.8714190182449691),\n",
              " (382, 0.9651142956027288),\n",
              " (383, 0.9735286171139227),\n",
              " (384, 0.9366449730493726),\n",
              " (385, 0.7960670018651198),\n",
              " (386, 0.9705707876359082),\n",
              " (387, 0.9263870371290776),\n",
              " (388, 0.9425104644897881),\n",
              " (389, 0.9309944282414944),\n",
              " (390, 0.8813990906604277),\n",
              " (391, 0.0),\n",
              " (392, 0.7738413334506792),\n",
              " (393, 0.9474024773089941),\n",
              " (394, 0.9988681377244375),\n",
              " (395, 0.9296316776019792),\n",
              " (396, 1.0),\n",
              " (397, 0.9740492440449617),\n",
              " (398, 0.9427163991671959),\n",
              " (399, 0.9590505197481035),\n",
              " (400, 0.9592119553362485),\n",
              " (401, 0.9996096037329261),\n",
              " (402, 0.7567568932458515),\n",
              " (403, 0.9995120760870788),\n",
              " (404, 0.8759679259541139),\n",
              " (405, 1.0),\n",
              " (406, 0.8803056672046558),\n",
              " (407, 0.9014506672575563),\n",
              " (408, 0.9563249805923335),\n",
              " (409, 0.9596949821928319),\n",
              " (410, 0.9191450300180578),\n",
              " (411, 0.8979514599255632),\n",
              " (412, 0.9938837346736188),\n",
              " (413, 0.9428808992889306),\n",
              " (414, 0.9794718752365135),\n",
              " (415, 0.9549954500215593),\n",
              " (416, 0.9395247698369203),\n",
              " (417, 0.9147159462282248),\n",
              " (418, 0.9176462238110022),\n",
              " (419, 0.8992518257717613),\n",
              " (420, 0.8800373105715976),\n",
              " (421, 0.9732198987188083),\n",
              " (422, 0.8767458434582694),\n",
              " (423, 0.0),\n",
              " (424, 0.886166358637461),\n",
              " (425, 0.945073410898477),\n",
              " (426, 0.0),\n",
              " (427, 0.9266225789903636),\n",
              " (428, 1.0),\n",
              " (429, 0.960461414168817),\n",
              " (430, 0.9167454849058978),\n",
              " (431, 0.9963274489009382),\n",
              " (432, 0.9296456322518517),\n",
              " (433, 0.9039837436309724),\n",
              " (434, 0.9675031670065175),\n",
              " (435, 0.6507913734559685),\n",
              " (436, 0.9105343055035809),\n",
              " (437, 0.9579260141488499),\n",
              " (438, 0.9487729783738271),\n",
              " (439, 0.9541600559134109),\n",
              " (440, 0.9012967339910285),\n",
              " (441, 0.9722579405160947),\n",
              " (442, 0.9984816729270792),\n",
              " (443, 0.0),\n",
              " (444, 0.9832267745254716),\n",
              " (445, 1.0),\n",
              " (446, 0.9338131547484817),\n",
              " (447, 0.9880235200593538),\n",
              " (448, 0.9676873131463899),\n",
              " (449, 0.9523643890899246),\n",
              " (450, 0.0),\n",
              " (451, 0.9226402087163509),\n",
              " (452, 0.9429982533125711),\n",
              " (453, 0.9955677708107759),\n",
              " (454, 0.9887513038517937),\n",
              " (455, 0.9985067527134329),\n",
              " (456, 0.9152236206723049),\n",
              " (457, 0.9626605970139135),\n",
              " (458, 0.9428090415820634),\n",
              " (459, 0.9247024001833126),\n",
              " (460, 0.9007783179731523),\n",
              " (461, 0.9738525033705036),\n",
              " (462, 0.9199999279505136),\n",
              " (463, 0.9236538115746417),\n",
              " (464, 1.0),\n",
              " (465, 0.8777338244973054),\n",
              " (466, 0.8541985556144386),\n",
              " (467, 0.9323768168324114),\n",
              " (468, 0.8998053692758564),\n",
              " (469, 0.8437758422458372),\n",
              " (470, 0.945079735240076),\n",
              " (471, 0.9132021631621875),\n",
              " (472, 0.8977369642581766),\n",
              " (473, 0.9484168381883898),\n",
              " (474, 0.9616314711687785),\n",
              " (475, 1.0),\n",
              " (476, 1.0),\n",
              " (477, 0.9819845141702034),\n",
              " (478, 0.9848026635640345),\n",
              " (479, 0.9483430256032132),\n",
              " (480, 0.9279171248974588),\n",
              " (481, 0.0),\n",
              " (482, 0.9774935612330303),\n",
              " (483, 0.9191450300180578),\n",
              " (484, 0.0),\n",
              " (485, 0.9456385724717072),\n",
              " (486, 0.9365073345808629),\n",
              " (487, 1.0),\n",
              " (488, 0.7071067811865476),\n",
              " (489, 0.9088109773219402),\n",
              " (490, 0.8772909829074399),\n",
              " (491, 1.0),\n",
              " (492, 0.9153923049521601),\n",
              " (493, 0.9410698183986006),\n",
              " (494, 0.9521821853527236),\n",
              " (495, 0.9457094929775577),\n",
              " (496, 1.0),\n",
              " (497, 0.9858435728860858),\n",
              " (498, 1.0),\n",
              " (499, 0.882198430230161),\n",
              " (500, 0.9922339517974709),\n",
              " (501, 0.9659800369103793),\n",
              " (502, 0.9664006546863486),\n",
              " (503, 0.0),\n",
              " (504, 0.9145412520367596),\n",
              " (505, 0.9705690415381711),\n",
              " (506, 0.9855274566525745),\n",
              " (507, 0.9341211176750323),\n",
              " (508, 0.9068175648739273),\n",
              " (509, 0.9217381668707751),\n",
              " (510, 0.9011719448587081),\n",
              " (511, 0.961508829696314),\n",
              " (512, 0.9532192010836258),\n",
              " (513, 0.9127240688426833),\n",
              " (514, 1.0),\n",
              " (515, 0.9355253054691491),\n",
              " (516, 0.9406631961503209),\n",
              " (517, 0.9118197581650531),\n",
              " (518, 0.9934048237075628),\n",
              " (519, 0.9406993888785133),\n",
              " (520, 0.9579338189604589),\n",
              " (521, 0.9490815405199969),\n",
              " (522, 0.9700934506936695),\n",
              " (523, 0.9958932064677039),\n",
              " (524, 0.9375688894890463),\n",
              " (525, 0.0),\n",
              " (526, 0.9011960589415056),\n",
              " (527, 0.9755878754544718),\n",
              " (528, 0.8906508807384951),\n",
              " (529, 0.9129440729540229),\n",
              " (530, 0.8973530319545704),\n",
              " (531, 0.9756535438120406),\n",
              " (532, 0.9690714130918726),\n",
              " (533, 0.9373366692259963),\n",
              " (534, 0.9374179000542177),\n",
              " (535, 0.9183715551523007),\n",
              " (536, 0.8759739187483945),\n",
              " (537, 0.9387365967777291),\n",
              " (538, 0.9428090415820634),\n",
              " (539, 1.0),\n",
              " (540, 1.0),\n",
              " (541, 1.0),\n",
              " (542, 0.9485040136686709),\n",
              " (543, 0.971917751928203),\n",
              " (544, 0.8451542547285166),\n",
              " (545, 0.9847319278346618),\n",
              " (546, 0.870538680083892),\n",
              " (547, 0.9614637580018084),\n",
              " (548, 1.0),\n",
              " (549, 0.9385322312681733),\n",
              " (550, 0.950664736308345),\n",
              " (551, 0.8822887363690699),\n",
              " (552, 0.9696899027331812),\n",
              " (553, 0.8956685895029601),\n",
              " (554, 0.9494918466121728),\n",
              " (555, 0.9743364595725814),\n",
              " (556, 0.9931804770995404),\n",
              " (557, 0.9761904761904762),\n",
              " (558, 0.9694352422925872),\n",
              " (559, 0.9745695272116702),\n",
              " (560, 0.9420659742073573),\n",
              " (561, 0.9678145348495087),\n",
              " (562, 0.986768955202772),\n",
              " (563, 0.8744156807633379),\n",
              " (564, 1.0),\n",
              " (565, 1.0),\n",
              " (566, 1.0),\n",
              " (567, 0.9757888974215286),\n",
              " (568, 0.9778436280507944),\n",
              " (569, 0.9274087349713253),\n",
              " (570, 1.0),\n",
              " (571, 0.9674949672364745),\n",
              " (572, 0.8488382153210785),\n",
              " (573, 0.9555341688077429),\n",
              " (574, 0.8990066699114423),\n",
              " (575, 1.0),\n",
              " (576, 0.9671395323339894),\n",
              " (577, 0.9346646078938439),\n",
              " (578, 0.0),\n",
              " (579, 0.9353722119130619),\n",
              " (580, 0.0),\n",
              " (581, 0.8896175825469231),\n",
              " (582, 1.0),\n",
              " (583, 0.9418950377488579),\n",
              " (584, 0.910224479669779),\n",
              " (585, 0.892471361192968),\n",
              " (586, 0.8383047947148373),\n",
              " (587, 0.9591531778320921),\n",
              " (588, 0.9802485632945529),\n",
              " (589, 0.9638105572371639),\n",
              " (590, 0.940146987210281),\n",
              " (591, 0.9520184052142828),\n",
              " (592, 0.9376256248022635),\n",
              " (593, 0.9561828874675149),\n",
              " (594, 0.93752364216681),\n",
              " (595, 0.951591605682833),\n",
              " (596, 0.9678505534831041),\n",
              " (597, 0.9508549571106715),\n",
              " (598, 0.8258009818735298),\n",
              " (599, 1.0),\n",
              " (600, 0.0),\n",
              " (601, 0.8819216162499226),\n",
              " (602, 0.9284806435571192),\n",
              " (603, 0.9682773237093576),\n",
              " (604, 0.9010685088407392),\n",
              " (605, 0.9979517409161514),\n",
              " (606, 0.9551739930679948),\n",
              " (607, 0.9056042444793685),\n",
              " (608, 0.6482037235521644),\n",
              " (609, 0.0),\n",
              " (610, 0.9899494936611665),\n",
              " (611, 0.8696565534786727),\n",
              " (612, 0.975609756097561),\n",
              " (613, 0.9249450923943954),\n",
              " (614, 0.9602451472188694),\n",
              " (615, 0.9656157585206697),\n",
              " (616, 0.9075179577778868),\n",
              " (617, 0.9656157585206697),\n",
              " (618, 0.9536086836552683),\n",
              " (619, 1.0),\n",
              " (620, 0.8458978645170901),\n",
              " (621, 1.0),\n",
              " (622, 0.9688873513738365),\n",
              " (623, 0.9582141185065496),\n",
              " (624, 1.0),\n",
              " (625, 0.9064925214675468),\n",
              " (626, 0.9349190520078259),\n",
              " (627, 0.869176455588967),\n",
              " (628, 0.8982398271787376),\n",
              " (629, 0.9333456062030595),\n",
              " (630, 1.0),\n",
              " (631, 0.9952165767689609),\n",
              " (632, 0.954828054896482),\n",
              " (633, 0.8913547410185707),\n",
              " (634, 0.9526456632833458),\n",
              " (635, 1.0),\n",
              " (636, 1.0),\n",
              " (637, 1.0),\n",
              " (638, 0.9484437638117005),\n",
              " (639, 0.8902638145194516),\n",
              " (640, 0.9390325876191159),\n",
              " (641, 1.0),\n",
              " (642, 1.0),\n",
              " (643, 1.0),\n",
              " (644, 0.9105724494316335),\n",
              " (645, 0.9586409713301774),\n",
              " (646, 0.9335131777674582),\n",
              " (647, 0.9459638783552131),\n",
              " (648, 0.9080915641039407),\n",
              " (649, 0.9737260471306501),\n",
              " (650, 1.0),\n",
              " (651, 0.9548023036594019),\n",
              " (652, 0.9281152419431036),\n",
              " (653, 0.9483289635392574),\n",
              " (654, 0.9646519305500862),\n",
              " (655, 1.0),\n",
              " (656, 0.9646001265933444),\n",
              " (657, 0.8794825000244313),\n",
              " (658, 0.908818946657545),\n",
              " (659, 0.8991437621018679),\n",
              " (660, 0.938578553396256),\n",
              " (661, 0.9077850441674324),\n",
              " (662, 0.9856236902976733),\n",
              " (663, 0.9899702210052637),\n",
              " (664, 0.9084548587564961),\n",
              " (665, 0.9237017936611224),\n",
              " (666, 0.9181966599715873),\n",
              " (667, 0.9848484848484849),\n",
              " (668, 1.0),\n",
              " (669, 0.9074142434917464),\n",
              " (670, 0.9276638708773379)]"
            ]
          },
          "execution_count": 38,
          "metadata": {},
          "output_type": "execute_result"
        }
      ],
      "source": [
        "# users에 모든 사용자들을 일련번호와 유사도를 갖는 튜플의 형태로 저장\n",
        "# 이 때 본인은 제외\n",
        "users = []\n",
        "for innerID, score in enumerate(similarityRow):\n",
        "    if (innerID != testUserInnerID):\n",
        "        users.append( (innerID, score) )\n",
        "users"
      ]
    },
    {
      "cell_type": "code",
      "execution_count": 39,
      "metadata": {
        "id": "VfKtrD4_0NVI"
      },
      "outputs": [],
      "source": [
        "# 이제 users 리트스에서 유사도 값을 기준으로 가장 큰 k개를 찾는다\n",
        "kNeighbors = heapq.nlargest(k, users, key=lambda t: t[1])"
      ]
    },
    {
      "cell_type": "code",
      "execution_count": 40,
      "metadata": {
        "colab": {
          "base_uri": "https://localhost:8080/"
        },
        "id": "TZ1PfUxeI7zk",
        "outputId": "47aa277f-9f60-487b-b6e8-f09f68b7bcc6"
      },
      "outputs": [
        {
          "data": {
            "text/plain": [
              "[(10, 1.0),\n",
              " (11, 1.0),\n",
              " (13, 1.0),\n",
              " (24, 1.0),\n",
              " (36, 1.0),\n",
              " (44, 1.0),\n",
              " (45, 1.0),\n",
              " (51, 1.0),\n",
              " (53, 1.0),\n",
              " (61, 1.0)]"
            ]
          },
          "execution_count": 40,
          "metadata": {},
          "output_type": "execute_result"
        }
      ],
      "source": [
        "kNeighbors"
      ]
    },
    {
      "cell_type": "code",
      "execution_count": 41,
      "metadata": {
        "id": "vFfjdVUM0T0p"
      },
      "outputs": [],
      "source": [
        "# 이제 유사 사용자들을 하나씩 보면서 그들이 평가한 아이템들별로 원 사용자와 유사 사용자간의 유사도를 가중치로 준 평점을 누적한다\n",
        "\n",
        "# candidates에는 아이템별로 점수를 누적한다. 유사사용자(u')의 평점 * 사용자(u)와 유사 사용자(u')의 유사도\n",
        "candidates = defaultdict(float)\n",
        "\n",
        "# 이 K명의 최고 유사 사용자를 한명씩 루프를 돌면서 살펴본다\n",
        "\n",
        "for similarUser in kNeighbors: # kNeighbors (innerID, userSimilarityScore)\n",
        "    # similarUser는 앞서 enumerate로 만든 그 포맷임 - (내부ID, 유사도값)\n",
        "    innerID = similarUser[0]\n",
        "    userSimilarityScore = similarUser[1]\n",
        "\n",
        "    # innerID에 해당하는 사용자의 아이템과 평점 정보를 읽어온다.\n",
        "    # theirRatings는 (아이템ID, 평점)의 리스트임\n",
        "    theirRatings = trainSet.ur[innerID]  \n",
        "    # innerID가 평가한 모든 아이템 리스트를 하나씩 보면서\n",
        "    \n",
        "    for rating in theirRatings: # theirRatings list of (movieID, Rating)\n",
        "        #rating (movieID, Rating)\n",
        "        candidates[rating[0]] += (rating[1]) * userSimilarityScore # 아이템ID별로 평점 정보를 합산하되 사용자와의 유사도값을 가중치로 준다\n",
        "        "
      ]
    },
    {
      "cell_type": "code",
      "execution_count": 42,
      "metadata": {
        "id": "LB0Z8koI0WWR"
      },
      "outputs": [],
      "source": [
        "# 사용자가 이미 평가한 아이템들을 제거할 사전을 만든다\n",
        "watched = {}\n",
        "for itemID, rating in trainSet.ur[testUserInnerID]:\n",
        "    watched[itemID] = 1"
      ]
    },
    {
      "cell_type": "code",
      "execution_count": 43,
      "metadata": {
        "colab": {
          "base_uri": "https://localhost:8080/"
        },
        "id": "Lj-Tmcat0YlM",
        "outputId": "a80be240-80a3-4376-fc16-cf178ca20897"
      },
      "outputs": [
        {
          "name": "stdout",
          "output_type": "stream",
          "text": [
            "79132 ['Inception (2010)' 'Action|Crime|Drama|Mystery|Sci-Fi|Thriller|IMAX'] 16.5\n",
            "1196 ['Star Wars: Episode V - The Empire Strikes Back (1980)'\n",
            " 'Action|Adventure|Sci-Fi'] 12.0\n",
            "26614 ['Bourne Identity, The (1988)' 'Action|Adventure|Drama|Mystery|Thriller'] 10.0\n",
            "3996 ['Crouching Tiger, Hidden Dragon (Wo hu cang long) (2000)'\n",
            " 'Action|Drama|Romance'] 10.0\n",
            "58559 ['Dark Knight, The (2008)' 'Action|Crime|Drama|IMAX'] 10.0\n",
            "1201 ['Good, the Bad and the Ugly, The (Buono, il brutto, il cattivo, Il) (1966)'\n",
            " 'Action|Adventure|Western'] 9.5\n",
            "48516 ['Departed, The (2006)' 'Crime|Drama|Thriller'] 9.5\n",
            "91529 ['Dark Knight Rises, The (2012)' 'Action|Adventure|Crime|IMAX'] 9.5\n",
            "1270 ['Back to the Future (1985)' 'Adventure|Comedy|Sci-Fi'] 9.5\n",
            "104841 ['Gravity (2013)' 'Action|Sci-Fi|IMAX'] 9.0\n",
            "2959 ['Fight Club (1999)' 'Action|Crime|Drama|Thriller'] 9.0\n"
          ]
        }
      ],
      "source": [
        "# 앞서 candidates에서 합산된 스코어를 기준으로 내림차순으로 소팅한 후\n",
        "# 사용자(u)가 아직 못본 아이템인 경우 추천한다\n",
        "pos = 0\n",
        "for itemID, ratingSum in sorted(candidates.items(), key=lambda k: k[1], reverse=True):\n",
        "    if not itemID in watched:\n",
        "        movieID = trainSet.to_raw_iid(itemID)\n",
        "        print(movieID, getMovieName(movie_ratings, int(movieID)), ratingSum)\n",
        "        pos += 1\n",
        "        if (pos > 10):\n",
        "            break"
      ]
    },
    {
      "cell_type": "code",
      "execution_count": 44,
      "metadata": {
        "id": "fKAMNwFq8w8t"
      },
      "outputs": [],
      "source": [
        "def recommendForUser(userID):\n",
        "    testUserInnerID = trainSet.to_inner_uid(userID)\n",
        "    similarityRow = simsMatrix[testUserInnerID]\n",
        "\n",
        "    users = []\n",
        "    for innerID, score in enumerate(similarityRow):\n",
        "        if (innerID != testUserInnerID):\n",
        "            users.append( (innerID, score) )\n",
        "\n",
        "    kNeighbors = heapq.nlargest(k, users, key=lambda t: t[1])\n",
        "\n",
        "    candidates = defaultdict(float)\n",
        "    for similarUser in kNeighbors:\n",
        "        innerID = similarUser[0]\n",
        "        userSimilarityScore = similarUser[1]\n",
        "        theirRatings = trainSet.ur[innerID]\n",
        "        for rating in theirRatings:\n",
        "            candidates[rating[0]] += (rating[1]) * userSimilarityScore\n",
        "\n",
        "    watched = {}\n",
        "    for itemID, rating in trainSet.ur[testUserInnerID]:\n",
        "        watched[itemID] = 1\n",
        "\n",
        "    pos = 0\n",
        "    for itemID, ratingSum in sorted(candidates.items(), key=lambda k: k[1], reverse=True):\n",
        "        if not itemID in watched:\n",
        "            movieID = trainSet.to_raw_iid(itemID)\n",
        "            print(movieID, getMovieName(movie_ratings, int(movieID)), ratingSum)\n",
        "            pos += 1\n",
        "            if (pos > 10):\n",
        "                break"
      ]
    },
    {
      "cell_type": "code",
      "execution_count": 45,
      "metadata": {
        "colab": {
          "base_uri": "https://localhost:8080/"
        },
        "id": "35XfhXKpXWlD",
        "outputId": "39d52a63-43c3-44e7-cc10-6538df1a5424"
      },
      "outputs": [
        {
          "name": "stdout",
          "output_type": "stream",
          "text": [
            "79132 ['Inception (2010)' 'Action|Crime|Drama|Mystery|Sci-Fi|Thriller|IMAX'] 16.5\n",
            "1196 ['Star Wars: Episode V - The Empire Strikes Back (1980)'\n",
            " 'Action|Adventure|Sci-Fi'] 12.0\n",
            "26614 ['Bourne Identity, The (1988)' 'Action|Adventure|Drama|Mystery|Thriller'] 10.0\n",
            "3996 ['Crouching Tiger, Hidden Dragon (Wo hu cang long) (2000)'\n",
            " 'Action|Drama|Romance'] 10.0\n",
            "58559 ['Dark Knight, The (2008)' 'Action|Crime|Drama|IMAX'] 10.0\n",
            "1201 ['Good, the Bad and the Ugly, The (Buono, il brutto, il cattivo, Il) (1966)'\n",
            " 'Action|Adventure|Western'] 9.5\n",
            "48516 ['Departed, The (2006)' 'Crime|Drama|Thriller'] 9.5\n",
            "91529 ['Dark Knight Rises, The (2012)' 'Action|Adventure|Crime|IMAX'] 9.5\n",
            "1270 ['Back to the Future (1985)' 'Adventure|Comedy|Sci-Fi'] 9.5\n",
            "104841 ['Gravity (2013)' 'Action|Sci-Fi|IMAX'] 9.0\n",
            "2959 ['Fight Club (1999)' 'Action|Crime|Drama|Thriller'] 9.0\n"
          ]
        }
      ],
      "source": [
        "recommendForUser('85')"
      ]
    },
    {
      "cell_type": "markdown",
      "metadata": {},
      "source": [
        "## 한방에 정리\n"
      ]
    },
    {
      "cell_type": "code",
      "execution_count": 137,
      "metadata": {},
      "outputs": [
        {
          "name": "stdout",
          "output_type": "stream",
          "text": [
            "Computing the cosine similarity matrix...\n",
            "Done computing similarity matrix.\n",
            "Computing the cosine similarity matrix...\n",
            "Done computing similarity matrix.\n",
            "84\n",
            "79132 ['Inception (2010)' 'Action|Crime|Drama|Mystery|Sci-Fi|Thriller|IMAX'] 16.5\n",
            "1196 ['Star Wars: Episode V - The Empire Strikes Back (1980)'\n",
            " 'Action|Adventure|Sci-Fi'] 12.0\n",
            "26614 ['Bourne Identity, The (1988)' 'Action|Adventure|Drama|Mystery|Thriller'] 10.0\n",
            "3996 ['Crouching Tiger, Hidden Dragon (Wo hu cang long) (2000)'\n",
            " 'Action|Drama|Romance'] 10.0\n",
            "58559 ['Dark Knight, The (2008)' 'Action|Crime|Drama|IMAX'] 10.0\n",
            "1201 ['Good, the Bad and the Ugly, The (Buono, il brutto, il cattivo, Il) (1966)'\n",
            " 'Action|Adventure|Western'] 9.5\n",
            "48516 ['Departed, The (2006)' 'Crime|Drama|Thriller'] 9.5\n",
            "91529 ['Dark Knight Rises, The (2012)' 'Action|Adventure|Crime|IMAX'] 9.5\n",
            "1270 ['Back to the Future (1985)' 'Adventure|Comedy|Sci-Fi'] 9.5\n",
            "104841 ['Gravity (2013)' 'Action|Sci-Fi|IMAX'] 9.0\n",
            "2959 ['Fight Club (1999)' 'Action|Crime|Drama|Thriller'] 9.0\n"
          ]
        }
      ],
      "source": [
        "from surprise import Dataset, Reader\n",
        "from collections import defaultdict\n",
        "import numpy as np\n",
        "import pandas as pd\n",
        "from surprise import KNNBasic\n",
        "import heapq\n",
        "\n",
        "\n",
        "def getMovieName(movie_ratings, movieID):\n",
        "    return movie_ratings[movie_ratings[\"movieId\"] == movieID][[\"title\", \"genres\"]].values[0]\n",
        "\n",
        "def getMovieID(movie_ratings, movieName):\n",
        "    return movie_ratings[movie_ratings[\"title\"] == movieName][[\"movieId\", \"genres\"]].values[0]\n",
        "\n",
        "# 데이터 로드 및 병합\n",
        "movies = pd.read_csv(\"data/movies.csv\")\n",
        "ratings = pd.read_csv(\"data/ratings.csv\")\n",
        "movie_ratings = pd.merge(movies, ratings, left_on='movieId', right_on='movieId')\n",
        "\n",
        "# Surprise 라이브러리 형식에 맞게 데이터 로딩\n",
        "reader = Reader(line_format='user item rating timestamp', sep=',', skip_lines=1)\n",
        "data = Dataset.load_from_file(\"data/ratings.csv\", reader=reader)\n",
        "\n",
        "# 전체 데이터를 트레이닝 세트로 사용\n",
        "trainSet = data.build_full_trainset() \n",
        "\n",
        "# 유사도 계산 방식 설정\n",
        "sim_options = {\n",
        "    'name': 'cosine',  # 유사도 측정 방식: 코사인 유사도\n",
        "    'user_based': True # 사용자 기반 협업 필터링 사용 (False로 설정 시 아이템 기반 필터링)\n",
        "}\n",
        "\n",
        "# KNN 알고리즘으로 모델 생성 및 학습\n",
        "model = KNNBasic(sim_options=sim_options)\n",
        "model.fit(trainSet)\n",
        "\n",
        "# 사용자 간 유사도 매트릭스 계산\n",
        "simsMatrix = model.compute_similarities()\n",
        "\n",
        "# 추천할 사용자와 이웃 설정\n",
        "testUser = '85'  # 추천을 받을 사용자 ID\n",
        "k = 10  # 고려할 이웃(유사 사용자) 수\n",
        "\n",
        "# Surprise의 내부 ID로 사용자 ID 변환\n",
        "# Surprise는 데이터셋을 로딩하면서 내부에서 사용자와 아이템 ID를 0부터 순서대로 일련번호를 부여함\n",
        "# 이를 내부 ID라고 하며, trainSet.to_inner_uid() 메서드를 통해 raw ID를 내부 ID로 변환\n",
        "testUserInnerID = trainSet.to_inner_uid(testUser)\n",
        "print(testUserInnerID)\n",
        "\n",
        "# 추천할 사용자의 유사도 행을 추출\n",
        "# simsMatrix는 사용자의 내부 ID에 대한 유사도 값을 행렬로 저장\n",
        "# testUserInnerID에 해당하는 사용자의 유사도 행을 similarityRow로 저장\n",
        "similarityRow = simsMatrix[testUserInnerID]\n",
        "\n",
        "# 다른 모든 사용자와의 유사도 값 리스트 생성 (본인 제외)\n",
        "# (사용자 내부 ID, 유사도 점수) 형태의 튜플로 리스트 생성\n",
        "users = []\n",
        "for innerID, score in enumerate(similarityRow):\n",
        "    if innerID != testUserInnerID:  # 본인은 제외\n",
        "        users.append((innerID, score))\n",
        "\n",
        "# 유사도 값 기준 상위 k개의 유사 사용자를 kNeighbors에 저장\n",
        "kNeighbors = heapq.nlargest(k, users, key=lambda t: t[1])\n",
        "\n",
        "# 유사 사용자들이 평가한 아이템의 평점을 가중합으로 저장할 딕셔너리 생성\n",
        "# 유사 사용자와의 유사도를 가중치로 사용\n",
        "candidates = defaultdict(float)\n",
        "\n",
        "# 유사 사용자들의 평점 데이터 누적\n",
        "for similarUser in kNeighbors:  # kNeighbors는 (내부ID, 유사도 점수) 형식\n",
        "    innerID = similarUser[0]\n",
        "    userSimilarityScore = similarUser[1]\n",
        "\n",
        "    # 유사 사용자가 평가한 아이템과 평점 리스트 가져오기\n",
        "    # trainSet.ur는 내부 ID를 사용하여 각 사용자가 평가한 (아이템 ID, 평점) 리스트를 반환\n",
        "    theirRatings = trainSet.ur[innerID]\n",
        "\n",
        "    # 각 아이템에 대해, 유사도 점수를 가중치로 하여 평점을 누적\n",
        "    for rating in theirRatings:  # rating은 (아이템 ID, 평점) 형식의 튜플\n",
        "        candidates[rating[0]] += rating[1] * userSimilarityScore\n",
        "\n",
        "# 이미 평가한 아이템을 제외하기 위한 사전 생성\n",
        "watched = {}\n",
        "for itemID, rating in trainSet.ur[testUserInnerID]:\n",
        "    watched[itemID] = 1\n",
        "\n",
        "# 추천 아이템 출력\n",
        "# candidates에서 평점이 높은 순으로 소팅하여, 아직 보지 않은 아이템을 추천\n",
        "pos = 0\n",
        "for itemID, ratingSum in sorted(candidates.items(), key=lambda k: k[1], reverse=True):\n",
        "    if itemID not in watched:  # 이미 평가한 아이템은 제외\n",
        "        movieID = trainSet.to_raw_iid(itemID)  # 내부 아이템 ID를 원래 ID로 변환\n",
        "        print(movieID, getMovieName(movie_ratings, int(movieID)), ratingSum)\n",
        "        pos += 1\n",
        "        if pos > 10:\n",
        "            break\n"
      ]
    }
  ],
  "metadata": {
    "colab": {
      "provenance": []
    },
    "kernelspec": {
      "display_name": "Python 3",
      "name": "python3"
    },
    "language_info": {
      "codemirror_mode": {
        "name": "ipython",
        "version": 3
      },
      "file_extension": ".py",
      "mimetype": "text/x-python",
      "name": "python",
      "nbconvert_exporter": "python",
      "pygments_lexer": "ipython3",
      "version": "3.10.15"
    }
  },
  "nbformat": 4,
  "nbformat_minor": 0
}
